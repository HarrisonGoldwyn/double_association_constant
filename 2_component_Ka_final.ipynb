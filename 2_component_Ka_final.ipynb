{
 "cells": [
  {
   "cell_type": "code",
   "execution_count": 1,
   "metadata": {},
   "outputs": [],
   "source": [
    "import os\n",
    "import numpy as np\n",
    "import scipy.optimize as opt\n",
    "import matplotlib.pyplot as plt"
   ]
  },
  {
   "cell_type": "markdown",
   "metadata": {},
   "source": [
    "# Fitting all wavelengths \n",
    "---\n",
    "First load data in a tab separated format. The first row should be the wavelengths, the first column should be concentrations."
   ]
  },
  {
   "cell_type": "code",
   "execution_count": 2,
   "metadata": {},
   "outputs": [],
   "source": [
    "filename = os.path.join(\"data\", \"all_wavelengths_PhOH.dat\")\n",
    "con_N0 = 7.5 * 1e-6\n",
    "end_filename =\"fit_spectra_PhOH.txt\""
   ]
  },
  {
   "cell_type": "code",
   "execution_count": 3,
   "metadata": {},
   "outputs": [
    {
     "name": "stdout",
     "output_type": "stream",
     "text": [
      "--\t550\t549.5\t549\t548.5\t548\t547.5\t547\t546.5\t546\t545.5\t545\t544.5\t544\t543.5\t543\t542.5\t542\t541.5\t541\t540.5\t540\t539.5\t539\t538.5\t538\t537.5\t537\t536.5\t536\t535.5\t535\t534.5\t534\t533.5\t533\t532.5\t532\t531.5\t531\t530.5\t530\t529.5\t529\t528.5\t528\t527.5\t527\t526.5\t526\t525.5\t525\t524.5\t524\t523.5\t523\t522.5\t522\t521.5\t521\t520.5\t520\t519.5\t519\t518.5\t518\t517.5\t517\t516.5\t516\t515.5\t515\t514.5\t514\t513.5\t513\t512.5\t512\t511.5\t511\t510.5\t510\t509.5\t509\t508.5\t508\t507.5\t507\t506.5\t506\t505.5\t505\t504.5\t504\t503.5\t503\t502.5\t502\t501.5\t501\t500.5\t500\t499.5\t499\t498.5\t498\t497.5\t497\t496.5\t496\t495.5\t495\t494.5\t494\t493.5\t493\t492.5\t492\t491.5\t491\t490.5\t490\t489.5\t489\t488.5\t488\t487.5\t487\t486.5\t486\t485.5\t485\t484.5\t484\t483.5\t483\t482.5\t482\t481.5\t481\t480.5\t480\t479.5\t479\t478.5\t478\t477.5\t477\t476.5\t476\t475.5\t475\t474.5\t474\t473.5\t473\t472.5\t472\t471.5\t471\t470.5\t470\t469.5\t469\t468.5\t468\t467.5\t467\t466.5\t466\t465.5\t465\t464.5\t464\t463.5\t463\t462.5\t462\t461.5\t461\t460.5\t460\t459.5\t459\t458.5\t458\t457.5\t457\t456.5\t456\t455.5\t455\t454.5\t454\t453.5\t453\t452.5\t452\t451.5\t451\t450.5\t450\t449.5\t449\t448.5\t448\t447.5\t447\t446.5\t446\t445.5\t445\t444.5\t444\t443.5\t443\t442.5\t442\t441.5\t441\t440.5\t440\t439.5\t439\t438.5\t438\t437.5\t437\t436.5\t436\t435.5\t435\t434.5\t434\t433.5\t433\t432.5\t432\t431.5\t431\t430.5\t430\t429.5\t429\t428.5\t428\t427.5\t427\t426.5\t426\t425.5\t425\t424.5\t424\t423.5\t423\t422.5\t422\t421.5\t421\t420.5\t420\t419.5\t419\t418.5\t418\t417.5\t417\t416.5\t416\t415.5\t415\t414.5\t414\t413.5\t413\t412.5\t412\t411.5\t411\t410.5\t410\t409.5\t409\t408.5\t408\t407.5\t407\t406.5\t406\t405.5\t405\t404.5\t404\t403.5\t403\t402.5\t402\t401.5\t401\t400.5\t400\t399.5\t399\t398.5\t398\t397.5\t397\t396.5\t396\t395.5\t395\t394.5\t394\t393.5\t393\t392.5\t392\t391.5\t391\t390.5\t390\t389.5\t389\t388.5\t388\t387.5\t387\t386.5\t386\t385.5\t385\t384.5\t384\t383.5\t383\t382.5\t382\t381.5\t381\t380.5\t380\t379.5\t379\t378.5\t378\t377.5\t377\t376.5\t376\t375.5\t375\t374.5\t374\t373.5\t373\t372.5\t372\t371.5\t371\t370.5\t370\t369.5\t369\t368.5\t368\t367.5\t367\t366.5\t366\t365.5\t365\t364.5\t364\t363.5\t363\t362.5\t362\t361.5\t361\t360.5\t360\t359.5\t359\t358.5\t358\t357.5\t357\t356.5\t356\t355.5\t355\t354.5\t354\t353.5\t353\t352.5\t352\t351.5\t351\t350.5\t350\t349.5\t349\t348.5\t348\t347.5\t347\t346.5\t346\t345.5\t345\t344.5\t344\t343.5\t343\t342.5\t342\t341.5\t341\t340.5\t340\t339.5\t339\t338.5\t338\t337.5\t337\t336.5\t336\t335.5\t335\t334.5\t334\t333.5\t333\t332.5\t332\t331.5\t331\t330.5\t330\t329.5\t329\t328.5\t328\t327.5\t327\t326.5\t326\t325.5\t325\t324.5\t324\t323.5\t323\t322.5\t322\t321.5\t321\t320.5\t320\t319.5\t319\t318.5\t318\t317.5\t317\t316.5\t316\t315.5\t315\t314.5\t314\t313.5\t313\t312.5\t312\t311.5\t311\t310.5\t310\t309.5\t309\t308.5\t308\t307.5\t307\t306.5\t306\t305.5\t305\t304.5\t304\t303.5\t303\t302.5\t302\t301.5\t301\t300.5\t300\n",
      "\n",
      "0\t5.09473912338101E-5\t9.00559181338103E-5\t1.60890431338104E-5\t4.38636865638106E-5\t-9.22902003618953E-6\t1.15011438100001E-8\t6.61541061038102E-5\t3.81860312638105E-5\t2.39684245538101E-5\t1.52659571338102E-5\t9.23312995338105E-5\t9.52047523381029E-6\t1.09624243338103E-5\t-4.89686927661895E-5\t-1.0712987416619E-4\t-1.91296704661897E-5\t-1.77624006661897E-5\t-7.37673099661897E-5\t-5.80957407661899E-5\t-4.91482625661899E-5\t-7.41252869661895E-5\t-2.35640173661897E-5\t1.59440837338103E-5\t-5.77589802661895E-5\t-1.2360855076619E-4\t-1.8416011756619E-4\t-1.6335780586619E-4\t-1.2851964726619E-4\t-1.5154252366619E-4\t-1.6621399726619E-4\t-2.5986494356619E-4\t-2.3962229736619E-4\t-2.2213462146619E-4\t-2.1600779946619E-4\t-1.79460256466189E-4\t-2.3429990546619E-4\t-1.9963840746619E-4\t-2.2275604546619E-4\t-2.8624721646619E-4\t-1.81502995466189E-4\t-3.1687399246619E-4\t-1.3838357546619E-4\t-4.11869094661896E-5\t-1.0258167346619E-4\t-1.8163780446619E-4\t-1.36090543466189E-4\t-3.0315665746619E-4\t-2.7819104246619E-4\t-2.3244086946619E-4\t-2.70598552466189E-4\t-2.50151016466189E-4\t-1.9659298246619E-4\t-2.8914002046619E-4\t-2.5750357446619E-4\t-2.0598478946619E-4\t-2.6161245346619E-4\t-2.2992932546619E-4\t-3.1002632646619E-4\t-2.5478399646619E-4\t-1.4785885146619E-4\t-5.6081694346619E-4\t-2.0600807246619E-4\t-1.1924268446619E-4\t-5.4750601616619E-4\t-3.1592532336619E-4\t-4.46986954661895E-5\t-4.7185386826619E-4\t-3.3664736696619E-4\t-1.5703016736619E-4\t-3.2468284016619E-4\t-2.8613580666619E-4\t-1.5608237146619E-4\t-3.2111395426619E-4\t-2.6462918196619E-4\t-1.0504263546619E-4\t-4.5602679746619E-4\t-2.6754093246619E-4\t-2.7447689986619E-4\t-5.0227189676619E-4\t-2.1321418066619E-4\t-2.3916050726619E-4\t-5.2162284428619E-4\t-2.7517831616619E-4\t-2.7796569196619E-4\t-4.51969495086189E-4\t-2.8465306886619E-4\t-2.6674601956619E-4\t-3.9243288346619E-4\t-2.3329839903619E-4\t-3.5446107217619E-4\t-3.4198706146619E-4\t-3.0345796966619E-4\t-3.6349233286619E-4\t-4.8743844546619E-4\t-3.0478344566619E-4\t-3.9197930806619E-4\t-4.2562039566619E-4\t-2.8596453026619E-4\t-3.95663532866191E-4\t-4.2469483606619E-4\t-2.9455592296619E-4\t-3.4627706756619E-4\t-3.9668757986619E-4\t-3.5411018916619E-4\t-3.6460188776619E-4\t-3.80227384766191E-4\t-3.7675669476619E-4\t-3.3800651576619E-4\t-3.66757549466189E-4\t-3.6057415006619E-4\t-3.5516857906619E-4\t-3.3144651216619E-4\t-3.8844694646619E-4\t-4.0155612746619E-4\t-3.6706843746619E-4\t-3.1836876546619E-4\t-3.33439892466189E-4\t-3.5548394846619E-4\t-3.4786829046619E-4\t-3.1174263646619E-4\t-3.36720243466189E-4\t-3.8806696746619E-4\t-4.1117994846619E-4\t-3.4847353346619E-4\t-3.4301901046619E-4\t-3.2600793846619E-4\t-3.1275545046619E-4\t-3.92682718466189E-4\t-2.6868841046619E-4\t-3.69640633466189E-4\t-3.2858199746619E-4\t-1.89370110466189E-4\t-3.6472697546619E-4\t-3.3547704446619E-4\t-1.0815610446619E-4\t-3.2582376846619E-4\t-1.8725693946619E-4\t-7.302533646619E-5\t-3.3249017546619E-4\t-7.49707534661902E-5\t4.39628655338102E-5\t-1.8745903746619E-4\t-7.68025474661895E-5\t8.55116095338096E-5\t-7.40861134661897E-5\t2.47472355338098E-5\t1.5579724353381E-4\t-9.68376254661899E-5\t1.1654816753381E-4\t2.3343799853381E-4\t1.55949631533809E-4\t2.69967031533811E-4\t2.6248036153381E-4\t2.51195293533809E-4\t3.87127177533811E-4\t5.0055085853381E-4\t3.8687967853381E-4\t4.59764751533811E-4\t5.58805551533811E-4\t4.8099913853381E-4\t5.9458812853381E-4\t6.64126725533809E-4\t4.7628571453381E-4\t5.3857280153381E-4\t6.6696004253381E-4\t5.8702741853381E-4\t5.83876755533811E-4\t7.0681110153381E-4\t5.6855067753381E-4\t6.12432735533811E-4\t7.5975492753381E-4\t6.4866025253381E-4\t6.1757200653381E-4\t7.59005446533811E-4\t7.4374689053381E-4\t7.7204466053381E-4\t8.59808076533811E-4\t8.54664148533811E-4\t9.63610496533811E-4\t0.00100184478053381\t9.8176779453381E-4\t0.00107233332653381\t0.00122570492553381\t0.00124485524553381\t0.00141183765853381\t0.00145666198053381\t0.00157413784553381\t0.00179963874753381\t0.00207626204153381\t0.00217134053053381\t0.00233230031253381\t0.00248393976753381\t0.00267073967753381\t0.00291100856153381\t0.00313640666853381\t0.00322397404153381\t0.00347988227583381\t0.00372888853733381\t0.00400210289913381\t0.00427541635993381\t0.00449989315623381\t0.00451094600603381\t0.00477570000803381\t0.00495231298693381\t0.00503256965183381\t0.00520130687953381\t0.00542531513303381\t0.00558018872203381\t0.00558679011153381\t0.00567838877153381\t0.00569838822503381\t0.00567210653543381\t0.00567897463133381\t0.00559868900903381\t0.00550656307393381\t0.00554923330613381\t0.00546206449643381\t0.00542596012872381\t0.00526161139153381\t0.00496955945153381\t0.00493243856293381\t0.00476873807333381\t0.00447688800453381\t0.00432398462853381\t0.00427635446353381\t0.00411530667253381\t0.00388143120053381\t0.00365451387353381\t0.00340027305453381\t0.00338910090953381\t0.00326479262853381\t0.00306050352953381\t0.00322003931953381\t0.00295274578253381\t0.00275999111353381\t0.00290688443153381\t0.00277137047853381\t0.00265979989653381\t0.00284840692053381\t0.00276171429753381\t0.00269262156553381\t0.00278872683553381\t0.00286794839353381\t0.00289911464453381\t0.00315247232953381\t0.00315289282253381\t0.00317507716453381\t0.00337628148453381\t0.00350599609253381\t0.00377610618353381\t0.00391423552453381\t0.00399844408553381\t0.00404896903153381\t0.00429773948953381\t0.00451931835953381\t0.00470866462253381\t0.00485827926453381\t0.00505616983453381\t0.00511448505753381\t0.00522960595853381\t0.00546070818153381\t0.00540551719253381\t0.00543249295353381\t0.00548221754553381\t0.00565149077653381\t0.00555820916053381\t0.00551313989853381\t0.00559007715853381\t0.00534879231053381\t0.00527619444153381\t0.00521611854753381\t0.00524133666853381\t0.00506252739153381\t0.00490071358153381\t0.00480361599153381\t0.00469832531453381\t0.00455966838153381\t0.00451396581453381\t0.00435274736553381\t0.00422256127053381\t0.00414205495453381\t0.00409480221053381\t0.00396059932553381\t0.00388026879853381\t0.00387884037953381\t0.00375973423153381\t0.00376762160053381\t0.00371783845753381\t0.00373696246153381\t0.00377789618453381\t0.00376366790453381\t0.00391181338853381\t0.00404044905353381\t0.00417562238553381\t0.00433307852753381\t0.00444482908453381\t0.00462189073453381\t0.00488263311753381\t0.00500706689353381\t0.00539920212653381\t0.00573306939553381\t0.00608409209453381\t0.00642111107253381\t0.00680632856453381\t0.00728039713213381\t0.00785143042049681\t0.00839123148853381\t0.00903068542453381\t0.00981438406453381\t0.0105892763365338\t0.0115028416205338\t0.0124127456405338\t0.0134412363555338\t0.0146424799595338\t0.0160235028205338\t0.0175316046355338\t0.0192360162205338\t0.0210128595505338\t0.0231815550005338\t0.0254831855605338\t0.0281868792505338\t0.0309689884405338\t0.0343690609005338\t0.0379103358305338\t0.0419261009805338\t0.0465836256205338\t0.0515915529205338\t0.0571291857805338\t0.0633022004205338\t0.0700686975705338\t0.0774206166505338\t0.0855606982005338\t0.0946632569105338\t0.104506801010534\t0.115024231510534\t0.126826904830534\t0.139388937650534\t0.153020342970534\t0.167870724690534\t0.183837659830534\t0.200697083140534\t0.218901265500534\t0.238186499230534\t0.258778317970534\t0.280324171420534\t0.303514593440534\t0.327258065450534\t0.352195211790534\t0.378663286710534\t0.405524084450534\t0.433242638680534\t0.461707952600534\t0.490374050230534\t0.520186824820534\t0.549333410430534\t0.578761465960534\t0.608598859170534\t0.637402725490534\t0.665640957790534\t0.692915740510534\t0.719077016400534\t0.744215095570534\t0.767389685000534\t0.788859189590534\t0.808884332100534\t0.826560979830534\t0.841769456040534\t0.854780897670534\t0.865197111080534\t0.873409276020534\t0.879013672580534\t0.882263535770534\t0.883069015200534\t0.881252934390534\t0.877684075490534\t0.871813618690534\t0.863939220200534\t0.854766518030534\t0.843957439170534\t0.832121006370534\t0.819359820510534\t0.805832036910534\t0.791869713130534\t0.777724428200534\t0.763392612470534\t0.749424795790534\t0.735767877800534\t0.722240907230534\t0.708916954830534\t0.696437741760534\t0.683778279640534\t0.671931879750534\t0.660624611340534\t0.649277852040534\t0.638748971830534\t0.628329437370534\t0.618265669910534\t0.608498551090534\t0.598987098920534\t0.589688583440534\t0.580608233930534\t0.573999682550534\t0.564620113150534\t0.555757517170534\t0.547247218070534\t0.538467964300534\t0.529587997220534\t0.520886385980534\t0.511678157540534\t0.502582783060534\t0.493424477210534\t0.484055960700534\t0.474963536600534\t0.464926453470534\t0.455345912070534\t0.445895904770534\t0.435857827010534\t0.426295926910534\t0.417146595280534\t0.407700719450534\t0.398574596380534\t0.389527375040534\t0.380669342500534\t0.372355794650534\t0.364248735950534\t0.356625856920534\t0.349251067420534\t0.342480888740534\t0.335833566350534\t0.329669335990534\t0.324039040220534\t0.318987986200534\t0.314503161400534\t0.310187420050534\t0.306657733500534\t0.303354395680534\t0.300936503440534\t0.299174284720534\t0.297833958810534\t0.297270638960534\t0.297343013950534\t0.298558453240534\t0.299774637540534\t0.301413385360534\t0.303318532320534\t0.305354843030534\t0.306927768630534\t0.308092100700534\t0.308859305610534\t0.308621535250534\t0.307423560120534\t0.304801697040534\t0.301516203300534\t0.296958344200534\t0.291597807960534\t0.285953873890534\t0.279400928120534\t0.273450320690534\t0.267346473510534\t0.261744110060534\t0.256648300380534\t0.252113184060534\t0.248594580300534\t0.245922720230534\t0.244142657230534\t0.243086619410534\t0.242916839350534\t0.243279891190534\t0.244137624390534\t0.245453478900534\t0.246916910760534\t0.248320641130534\t0.249776607540534\t0.250536838630534\t0.251627339170534\t0.251934560110534\t0.251377245530534\t0.250754574460534\t0.249469740490534\t0.247875327340534\t0.246286315990534\t0.244394293150534\t0.242510462320534\t0.240737961690534\t0.238944208340534\t0.237474149240534\t0.236366927730534\t0.235305214440534\t0.234697660600534\t0.234183972850534\t0.234005158930534\t0.234146036380534\t0.234591959130534\t0.235447181510534\t0.236072369050534\t0.237326188150534\t0.238573523350534\t0.239869723190534\t0.241433076720534\t0.242907000860534\t0.244336927470534\n",
      "\n"
     ]
    }
   ],
   "source": [
    "## Figure out what the file looks like\n",
    "with open(filename) as file:\n",
    "    for i in range(2):\n",
    "        print(file.readline())"
   ]
  },
  {
   "cell_type": "markdown",
   "metadata": {},
   "source": [
    "Grab wavelengths from file\n"
   ]
  },
  {
   "cell_type": "code",
   "execution_count": 4,
   "metadata": {},
   "outputs": [],
   "source": [
    "number_wavelengths = np.loadtxt(\n",
    "    filename,\n",
    "     skiprows=1,\n",
    "    # usecols=range(1,502),\n",
    "    delimiter='\\t'\n",
    "    ).shape[1]"
   ]
  },
  {
   "cell_type": "code",
   "execution_count": 5,
   "metadata": {},
   "outputs": [],
   "source": [
    "all_wavelengths = np.loadtxt(\n",
    "    filename,\n",
    "     #skiprows=1,\n",
    "     usecols=range(1,number_wavelengths),\n",
    "    delimiter='\\t'\n",
    "    )[0]"
   ]
  },
  {
   "cell_type": "markdown",
   "metadata": {
    "scrolled": true
   },
   "source": [
    "Grab absorbance data"
   ]
  },
  {
   "cell_type": "code",
   "execution_count": 6,
   "metadata": {},
   "outputs": [],
   "source": [
    "concentration_and_data = np.loadtxt(\n",
    "    filename,\n",
    "    skiprows=1,\n",
    "    delimiter='\\t'\n",
    ")"
   ]
  },
  {
   "cell_type": "code",
   "execution_count": 7,
   "metadata": {},
   "outputs": [],
   "source": [
    "## Take concentration out of data\n",
    "all_data = concentration_and_data[:,1:]\n",
    "\n",
    "## and flip the order because we had things running from large to small wavelength before\n",
    "##all_data = all_data[:, -1::-1]\n",
    "##all_wavelengths = all_wavelengths[-1::-1]"
   ]
  },
  {
   "cell_type": "markdown",
   "metadata": {},
   "source": [
    "Define phoh as the the first column of all_data\n",
    "this is the list of all concentrations of phenol"
   ]
  },
  {
   "cell_type": "code",
   "execution_count": 8,
   "metadata": {},
   "outputs": [],
   "source": [
    "phoh = concentration_and_data[:,0]"
   ]
  },
  {
   "cell_type": "markdown",
   "metadata": {},
   "source": [
    "Set up system of equations"
   ]
  },
  {
   "cell_type": "code",
   "execution_count": 9,
   "metadata": {},
   "outputs": [],
   "source": [
    "con_X = phoh\n",
    "\n",
    "def con_NX(K1, K2):\n",
    "    \n",
    "    con = (\n",
    "        K1 * con_N0 * con_X\n",
    "        )/(\n",
    "        1 + K1*con_X + K1*K2*con_X**2.\n",
    "        )\n",
    "    \n",
    "    return con\n",
    "\n",
    "def con_NX2(K1, K2):\n",
    "    \n",
    "    con = con_NX(K1, K2) * K2 * con_X\n",
    "    \n",
    "    return con\n",
    "\n",
    "\n",
    "def con_N(K1, K2):\n",
    "    \n",
    "    con = con_N0 - con_NX(K1, K2) - con_NX2(K1, K2)\n",
    "    \n",
    "    return con"
   ]
  },
  {
   "cell_type": "markdown",
   "metadata": {},
   "source": [
    "Trimming the data"
   ]
  },
  {
   "cell_type": "markdown",
   "metadata": {},
   "source": [
    "Only fit data between 320 and 500 nm"
   ]
  },
  {
   "cell_type": "code",
   "execution_count": 10,
   "metadata": {
    "scrolled": true
   },
   "outputs": [],
   "source": [
    "index_max_wavelength = np.argwhere(all_wavelengths == 500)[0,0]\n",
    "index_min_wavelength = np.argwhere(all_wavelengths == 330)[0,0]"
   ]
  },
  {
   "cell_type": "markdown",
   "metadata": {},
   "source": [
    "Takes all columns, but only rows between min and max wavelengths, skip every other wavelength"
   ]
  },
  {
   "cell_type": "code",
   "execution_count": 11,
   "metadata": {},
   "outputs": [],
   "source": [
    "column_indicies_to_fit = range(index_max_wavelength, index_min_wavelength, 2)\n",
    "\n",
    "trimmed_data = all_data[:, column_indicies_to_fit]\n",
    "\n",
    "trimmed_data_wavelengths = all_wavelengths[column_indicies_to_fit]"
   ]
  },
  {
   "cell_type": "markdown",
   "metadata": {},
   "source": [
    "Create vector of $\\epsilon_N$ for every wavelength. \n",
    "\n",
    "(I am risking resusing variable names from the 3 wavelength example above...)"
   ]
  },
  {
   "cell_type": "code",
   "execution_count": 12,
   "metadata": {},
   "outputs": [],
   "source": [
    "def get_eps_N_per_wavelength(data):\n",
    "    return np.array([od[0] for od in data.T])/con_N0"
   ]
  },
  {
   "cell_type": "markdown",
   "metadata": {},
   "source": [
    "## Define Fit Function"
   ]
  },
  {
   "cell_type": "code",
   "execution_count": 13,
   "metadata": {},
   "outputs": [],
   "source": [
    "## Rewrote fit function in order to take data as arg \n",
    "def em_fit_fun(unknowns, *args):\n",
    "    \"\"\" Cost function returning a vector of absorbance \n",
    "        equations at each wavelength \n",
    "        \n",
    "        Args:\n",
    "            unknowns \n",
    "        \n",
    "        Returns: \n",
    "            vetor of length 2 +2n, where n is number of \n",
    "            wavelength points determined by length of args[0] and args[1]\n",
    "        \n",
    "        \"\"\"\n",
    "    K1, K2 = unknowns[:2]\n",
    "    ## Check the length of eps_N_vec\n",
    "        ## 2 * len(eps_N_vec) more unknowns\n",
    "        \n",
    "    ## Get data from args tuple\n",
    "    data = args[0]\n",
    "    eps_N_vec = args[1]\n",
    "    \n",
    "    ## Iterate through eps_N for each wavelength\n",
    "    for i, eps_N in enumerate(eps_N_vec):\n",
    "    \n",
    "        ## Grab other two eps's from unknown arg (vector/list)\n",
    "        ## eps_NX are odd indexed\n",
    "        eps_NX = unknowns[2*(i+1)]\n",
    "        ## eps_NX2s are even indexed\n",
    "        eps_NX2 = unknowns[2*(i+1)+1]\n",
    "        \n",
    "        ## Build cost function for this wavelength \n",
    "        f = (\n",
    "            eps_N * con_N(K1, K2)\n",
    "            + \n",
    "            eps_NX * con_NX(K1, K2) \n",
    "            +\n",
    "            eps_NX2 * con_NX2(K1, K2)\n",
    "            ) - data.T[i]\n",
    "        \n",
    "        ## add value of cost funtion to list\n",
    "        if i is 0:\n",
    "            f_tot = f\n",
    "        elif i is not 0:\n",
    "            f_tot = np.hstack((f_tot, f))\n",
    "\n",
    "    return f_tot"
   ]
  },
  {
   "cell_type": "markdown",
   "metadata": {},
   "source": [
    "## Run the fit\n"
   ]
  },
  {
   "cell_type": "code",
   "execution_count": 14,
   "metadata": {
    "scrolled": false
   },
   "outputs": [
    {
     "name": "stdout",
     "output_type": "stream",
     "text": [
      "fit results: [6.39875054 1.61731232]\n"
     ]
    }
   ],
   "source": [
    "# not_as_trimmed_data = trimmed_data[:, range(0, 300, 5)]\n",
    "\n",
    "## Define eps_Ns \n",
    "eps_N_vec = get_eps_N_per_wavelength(trimmed_data)\n",
    "\n",
    "##Define initial guesses \n",
    "dummy_ini_guesses = [6.03599333e+00, 4.61655475e-01] + [1*1e4, 1*1e5]*eps_N_vec.shape[0]\n",
    "\n",
    "## Do fit\n",
    "fit_multi = opt.least_squares(\n",
    "    em_fit_fun, \n",
    "    dummy_ini_guesses, \n",
    "#     jac=jaco, \n",
    "#     method='lm',\n",
    "    args=(trimmed_data, eps_N_vec),\n",
    "    bounds=(0, np.inf),\n",
    "    x_scale='jac'\n",
    ")\n",
    "\n",
    "print(f'fit results: {fit_multi.x[:2]}')\n"
   ]
  },
  {
   "cell_type": "markdown",
   "metadata": {},
   "source": [
    "Grab eps_NX values at each wavelength"
   ]
  },
  {
   "cell_type": "code",
   "execution_count": 15,
   "metadata": {},
   "outputs": [],
   "source": [
    "for i in range(trimmed_data_wavelengths.shape[0]):\n",
    "        \n",
    "        ## fit_multi.x is a vector with the two K's first \n",
    "        ##then alternating eps_NX and eps_NX2 values\n",
    "        ## eps_NX are even indexed starting at 2\n",
    "        eps_NX_fit = fit_multi.x[2*(i+1)]\n",
    "        ## eps_NX2s are odd indexed starting at 3\n",
    "        eps_NX2_fit = fit_multi.x[2*(i+1)+1]\n",
    "        \n",
    "         ## add values of epsNX and epsNX2 to list\n",
    "        if i is 0:\n",
    "            eps_NX_fit_tot = eps_NX_fit\n",
    "            eps_NX2_fit_tot = eps_NX2_fit\n",
    "        elif i is not 0:\n",
    "            eps_NX_fit_tot = np.hstack((eps_NX_fit_tot, eps_NX_fit))\n",
    "            eps_NX2_fit_tot = np.hstack((eps_NX2_fit_tot, eps_NX2_fit))\n",
    "        \n"
   ]
  },
  {
   "cell_type": "markdown",
   "metadata": {},
   "source": [
    "Save file of molar extinction coefficient curves for TAHz-PhOH and TAHz-PhOH2"
   ]
  },
  {
   "cell_type": "code",
   "execution_count": 16,
   "metadata": {},
   "outputs": [],
   "source": [
    "fit_spectra = np.asarray([ trimmed_data_wavelengths, eps_N_vec, eps_NX_fit_tot, eps_NX2_fit_tot ])\n",
    "np.savetxt(end_filename, fit_spectra, delimiter=',')"
   ]
  },
  {
   "cell_type": "markdown",
   "metadata": {},
   "source": [
    "Plotting the fit and data at select wavelengths"
   ]
  },
  {
   "cell_type": "code",
   "execution_count": 17,
   "metadata": {},
   "outputs": [],
   "source": [
    "def Absorbance_per_wavelength(params, *args):\n",
    "    \"\"\" reutrns array where each row is a list of absorbance \n",
    "        values per concentration (column index).\n",
    "        \"\"\"\n",
    "    \n",
    "    ## get vec of eps_N from args to count wavelengths\n",
    "    eps_N_vec = args[1]\n",
    "    n_wavelengths = eps_N_vec.shape[0]\n",
    "    ## get data \n",
    "    data = args[0]\n",
    "    \n",
    "    ## get number of concentrations from data, should be number of rows\n",
    "    num_concentrations = data.shape[0]\n",
    "    \n",
    "    \n",
    "    em_fit_array = em_fit_fun(params, *args).reshape(\n",
    "        (n_wavelengths, num_concentrations))\n",
    "    \n",
    "    absorb = em_fit_array + data.T\n",
    "    \n",
    "    return absorb"
   ]
  },
  {
   "cell_type": "code",
   "execution_count": 18,
   "metadata": {},
   "outputs": [
    {
     "data": {
      "image/png": "[encoded data removed]",
      "text/plain": [
       "<Figure size 432x288 with 1 Axes>"
      ]
     },
     "metadata": {
      "needs_background": "light"
     },
     "output_type": "display_data"
    },
    {
     "data": {
      "image/png": "[encoded data removed]",
      "text/plain": [
       "<Figure size 432x288 with 1 Axes>"
      ]
     },
     "metadata": {
      "needs_background": "light"
     },
     "output_type": "display_data"
    },
    {
     "data": {
      "image/png": "[encoded data removed]",
      "text/plain": [
       "<Figure size 432x288 with 1 Axes>"
      ]
     },
     "metadata": {
      "needs_background": "light"
     },
     "output_type": "display_data"
    },
    {
     "data": {
      "image/png": "[encoded data removed]",
      "text/plain": [
       "<Figure size 432x288 with 1 Axes>"
      ]
     },
     "metadata": {
      "needs_background": "light"
     },
     "output_type": "display_data"
    },
    {
     "data": {
      "image/png": "[encoded data removed]",
      "text/plain": [
       "<Figure size 432x288 with 1 Axes>"
      ]
     },
     "metadata": {
      "needs_background": "light"
     },
     "output_type": "display_data"
    }
   ],
   "source": [
    "def find_aprox_wavelength_idx(wl, wl_array):\n",
    "    \"\"\" Finds the index of value in 'wl_array' closest to wl \n",
    "        \"\"\"\n",
    "    return np.argmin(np.abs(wl_array-wl))\n",
    "    \n",
    "\n",
    "## Define wavelengths to plot\n",
    "wavelength_indicies_to_plot = [\n",
    "    find_aprox_wavelength_idx(450, trimmed_data_wavelengths),\n",
    "    find_aprox_wavelength_idx(400, trimmed_data_wavelengths),\n",
    "    find_aprox_wavelength_idx(380, trimmed_data_wavelengths),\n",
    "    find_aprox_wavelength_idx(365, trimmed_data_wavelengths),\n",
    "    find_aprox_wavelength_idx(350, trimmed_data_wavelengths),\n",
    "#     np.argwhere(trimmed_data_wavelengths == 400)[0,0],\n",
    "#     np.argwhere(trimmed_data_wavelengths == 380)[0,0],\n",
    "#     np.argwhere(trimmed_data_wavelengths == 365)[0,0],\n",
    "#     np.argwhere(trimmed_data_wavelengths == 350)[0,0],\n",
    "    ]\n",
    "\n",
    "## Iterate through wavelength indicies we want to plot\n",
    "for i in wavelength_indicies_to_plot:\n",
    "    \n",
    "    ## Initialize figure \n",
    "    plt.figure()\n",
    "    \n",
    "#     ## Plot initial guess\n",
    "#     plt.plot(\n",
    "#         con_X, \n",
    "#         Absorbance_per_wavelength(dummy_ini_guesses, trimmed_data, eps_N_vec)[i], \n",
    "#         ls='--',\n",
    "#         c='k',\n",
    "#         label='initial guess')\n",
    "\n",
    "    ## Plot fit results\n",
    "    plt.plot(\n",
    "        con_X, \n",
    "        Absorbance_per_wavelength(fit_multi.x, trimmed_data, eps_N_vec)[i], \n",
    "        label='Fit!')\n",
    "    \n",
    "    ## Plot data\n",
    "    plt.scatter(con_X, trimmed_data.T[i,:], c='C1')\n",
    "\n",
    "    plt.title(f'Wavelength = {trimmed_data_wavelengths[i]:.1f} nm')\n",
    "    plt.xlabel('[X]')\n",
    "    plt.ylabel('OD')    \n",
    "    plt.legend()\n",
    "\n"
   ]
  },
  {
   "cell_type": "code",
   "execution_count": 19,
   "metadata": {},
   "outputs": [
    {
     "name": "stdout",
     "output_type": "stream",
     "text": [
      "[50, 100, 120, 135, 150]\n"
     ]
    }
   ],
   "source": [
    "print(wavelength_indicies_to_plot\n",
    "    )"
   ]
  },
  {
   "cell_type": "code",
   "execution_count": null,
   "metadata": {},
   "outputs": [],
   "source": []
  }
 ],
 "metadata": {
  "kernelspec": {
   "display_name": "Python 3",
   "language": "python",
   "name": "python3"
  },
  "language_info": {
   "codemirror_mode": {
    "name": "ipython",
    "version": 3
   },
   "file_extension": ".py",
   "mimetype": "text/x-python",
   "name": "python",
   "nbconvert_exporter": "python",
   "pygments_lexer": "ipython3",
   "version": "3.7.4"
  }
 },
 "nbformat": 4,
 "nbformat_minor": 4
}
