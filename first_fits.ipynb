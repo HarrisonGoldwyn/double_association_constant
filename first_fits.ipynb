{
 "cells": [
  {
   "cell_type": "code",
   "execution_count": 1,
   "metadata": {},
   "outputs": [],
   "source": [
    "import numpy as np\n",
    "import scipy.optimize as opt\n",
    "import matplotlib.pyplot as plt"
   ]
  },
  {
   "cell_type": "code",
   "execution_count": 2,
   "metadata": {},
   "outputs": [],
   "source": [
    "data = np.loadtxt(\n",
    "    '3wavelengths_try1.dat',\n",
    "    skiprows=1,\n",
    "    delimiter=','\n",
    ")"
   ]
  },
  {
   "cell_type": "code",
   "execution_count": 3,
   "metadata": {},
   "outputs": [
    {
     "data": {
      "text/plain": [
       "array([6.50409711, 0.90841421])"
      ]
     },
     "execution_count": 3,
     "metadata": {},
     "output_type": "execute_result"
    }
   ],
   "source": [
    "def func2(x):\n",
    "    \n",
    "    f = [\n",
    "        x[0] * np.cos(x[1]) - 4,\n",
    "        x[1] * x[0] - x[1] - 5\n",
    "        ]\n",
    "    \n",
    "    df = np.array([\n",
    "        [np.cos(x[1]), -x[0] * np.sin(x[1])],\n",
    "        [x[1],          x[0] - 1]\n",
    "        ])\n",
    "    \n",
    "    return f, df\n",
    "\n",
    "sol = opt.root(func2, [1, 1], jac=True, method='lm')\n",
    "sol.x"
   ]
  },
  {
   "cell_type": "code",
   "execution_count": 4,
   "metadata": {},
   "outputs": [],
   "source": [
    "phoh, od_380, od_400, od_365 = data.T"
   ]
  },
  {
   "cell_type": "markdown",
   "metadata": {},
   "source": [
    "### Outline of problem"
   ]
  },
  {
   "cell_type": "markdown",
   "metadata": {},
   "source": [
    "Unknowns: \n",
    "\n"
   ]
  },
  {
   "cell_type": "code",
   "execution_count": 5,
   "metadata": {},
   "outputs": [],
   "source": [
    "con_N0 = 7.5 * 1e-6\n",
    "eps_N = od_380[0] / con_N0 \n",
    "con_X = phoh\n",
    "\n",
    "def con_NX(K1, K2):\n",
    "    \n",
    "    con = (\n",
    "        K1 * con_N0 * con_X\n",
    "        )/(\n",
    "        1 + K1*con_X + K1*K2*con_X**2.\n",
    "        )\n",
    "    \n",
    "    return con\n",
    "\n",
    "def con_NX2(K1, K2):\n",
    "    \n",
    "    con = con_NX(K1, K2) * K2 * con_X\n",
    "    \n",
    "    return con\n",
    "    "
   ]
  },
  {
   "cell_type": "code",
   "execution_count": 6,
   "metadata": {},
   "outputs": [
    {
     "data": {
      "text/plain": [
       "26759.611085404536"
      ]
     },
     "execution_count": 6,
     "metadata": {},
     "output_type": "execute_result"
    }
   ],
   "source": [
    "eps_N"
   ]
  },
  {
   "cell_type": "code",
   "execution_count": 7,
   "metadata": {},
   "outputs": [],
   "source": [
    "def con_N(K1, K2):\n",
    "    \n",
    "    con = con_N0 - con_NX(K1, K2) - con_NX2(K1, K2)\n",
    "    \n",
    "    return con"
   ]
  },
  {
   "cell_type": "code",
   "execution_count": 52,
   "metadata": {},
   "outputs": [],
   "source": [
    "def em_fun_at_380(unknowns):\n",
    "    \"\"\" System of equations \"\"\"\n",
    "    K1, K2 = unknowns[:2]\n",
    "    eps_NX = unknowns[2]#*1e5\n",
    "    eps_NX2 = unknowns[3]#*1e4\n",
    "    \n",
    "    f = (\n",
    "        eps_N * con_N(K1, K2)\n",
    "        + \n",
    "        eps_NX * con_NX(K1, K2) \n",
    "        +\n",
    "        eps_NX2 * con_NX2(K1, K2)\n",
    "        ) - od_380\n",
    "    \n",
    "    return f"
   ]
  },
  {
   "cell_type": "code",
   "execution_count": 53,
   "metadata": {},
   "outputs": [],
   "source": [
    "def d_NX_d_K1(K1, K2):\n",
    "    \n",
    "    first_term = (\n",
    "        con_N0 * con_X \n",
    "        * \n",
    "        (1 + K1*con_X + K1*K2*con_X**2.)**(-1.)\n",
    "        )\n",
    "    \n",
    "    second_term = (\n",
    "        K1 * con_N0 * con_X \n",
    "        *\n",
    "        (-1)*(1 + K1*con_X + K1*K2*con_X**2.)**(-2.)\n",
    "        *\n",
    "        (con_X + K2*con_X**2.)\n",
    "        )\n",
    "    \n",
    "    return first_term + second_term\n",
    "\n",
    "\n",
    "def d_NX2_d_K1(K1, K2):\n",
    "    \n",
    "    return con_X * K2 * d_NX_d_K1(K1, K2) \n",
    "\n",
    "\n",
    "def d_NX_d_K2(K1, K2):\n",
    "    \n",
    "    der = (\n",
    "        K1*con_N0*con_X\n",
    "        *\n",
    "        (-1)*(1 + K1*con_X + K1*K2*con_X**2.)**(-2.)\n",
    "        *\n",
    "        K1*con_X**2.\n",
    "        )\n",
    "    \n",
    "    return der\n",
    "\n",
    "\n",
    "def d_NX2_d_K2(K1, K2):\n",
    "    \n",
    "    der = con_X * (\n",
    "        con_NX(K1, K2) \n",
    "        + \n",
    "        K2 * d_NX_d_K2(K1, K2)\n",
    "        )\n",
    "    \n",
    "    return der\n",
    "\n",
    "\n",
    "def d_N_d_K1(K1, K2):\n",
    "    \n",
    "    return -d_NX_d_K1(K1, K2) - d_NX2_d_K1(K1, K2)\n",
    "    \n",
    "    \n",
    "def d_N_d_K2(K1, K2):\n",
    "    \n",
    "    return -d_NX_d_K2(K1, K2) - d_NX2_d_K2(K1, K2)\n",
    "\n",
    "\n",
    "def jaco(unknowns):\n",
    "    \n",
    "    K1, K2 = unknowns[:2]\n",
    "    eps_NX = unknowns[2]#*1e5\n",
    "    eps_NX2 = unknowns[3]#*1e4\n",
    "    \n",
    "    ## Take derivitives with respect to K1\n",
    "    ddk1 = (\n",
    "        eps_N*d_N_d_K1(K1, K2)\n",
    "        +\n",
    "        eps_NX*d_NX_d_K1(K1, K2)\n",
    "        +\n",
    "        eps_NX2*d_NX2_d_K1(K1, K2)\n",
    "        )\n",
    "    \n",
    "    ddk2 = (\n",
    "        eps_N*d_N_d_K2(K1, K2)\n",
    "        +\n",
    "        eps_NX*d_NX_d_K2(K1, K2)\n",
    "        +\n",
    "        eps_NX2*d_NX2_d_K2(K1, K2)\n",
    "        )\n",
    "    \n",
    "    ddepsNX = con_NX(K1, K2)\n",
    "    \n",
    "    ddepsNX2 = con_NX2(K1, K2)\n",
    "    \n",
    "    j = np.vstack((ddk1, ddk2, ddepsNX, ddepsNX2))\n",
    "    \n",
    "    return j.T"
   ]
  },
  {
   "cell_type": "code",
   "execution_count": 54,
   "metadata": {},
   "outputs": [
    {
     "data": {
      "text/plain": [
       "array([[ 0.00000000e+00,  0.00000000e+00,  0.00000000e+00,\n",
       "         0.00000000e+00],\n",
       "       [-5.77921490e-03, -1.66708122e-04,  2.16160944e-07,\n",
       "         6.42062209e-09],\n",
       "       [-1.10769049e-02, -6.15383606e-04,  4.15309446e-07,\n",
       "         2.44299674e-08],\n",
       "       [-1.59027354e-02, -1.27789838e-03,  5.98476371e-07,\n",
       "         5.22940518e-08],\n",
       "       [-2.02741056e-02, -2.09732127e-03,  7.66710354e-07,\n",
       "         8.84665793e-08],\n",
       "       [-2.42137016e-02, -3.02671270e-03,  9.21052632e-07,\n",
       "         1.31578947e-07],\n",
       "       [-2.77475432e-02, -4.02786917e-03,  1.06251856e-06,\n",
       "         1.80427680e-07],\n",
       "       [-3.09034620e-02, -5.07009924e-03,  1.19208460e-06,\n",
       "         2.33960529e-07],\n",
       "       [-3.37099479e-02, -6.12908143e-03,  1.31067961e-06,\n",
       "         2.91262136e-07],\n",
       "       [-3.61952979e-02, -7.18583120e-03,  1.41917958e-06,\n",
       "         3.51539896e-07],\n",
       "       [-3.83870097e-02, -8.22578780e-03,  1.51840491e-06,\n",
       "         4.14110429e-07],\n",
       "       [-4.27504437e-02, -1.06876109e-02,  1.73076923e-06,\n",
       "         5.76923077e-07],\n",
       "       [-4.60318039e-02, -1.30689664e-02,  1.91390100e-06,\n",
       "         7.58815374e-07],\n",
       "       [-4.81954754e-02, -1.51512722e-02,  2.06074094e-06,\n",
       "         9.44881215e-07],\n",
       "       [-4.94769860e-02, -1.69152089e-02,  2.17739655e-06,\n",
       "         1.13111509e-06],\n",
       "       [-5.00737972e-02, -1.83694637e-02,  2.26906578e-06,\n",
       "         1.31469476e-06],\n",
       "       [-5.01473334e-02, -1.95379221e-02,  2.34011950e-06,\n",
       "         1.49369329e-06],\n",
       "       [-4.98271943e-02, -2.04514603e-02,  2.39420322e-06,\n",
       "         1.66685034e-06],\n",
       "       [-4.92160409e-02, -2.11429293e-02,  2.43434107e-06,\n",
       "         1.83339495e-06],\n",
       "       [-4.83943520e-02, -2.16442630e-02,  2.46303310e-06,\n",
       "         1.99291060e-06],\n",
       "       [-4.74246818e-02, -2.19849518e-02,  2.48234195e-06,\n",
       "         2.14523379e-06]])"
      ]
     },
     "execution_count": 54,
     "metadata": {},
     "output_type": "execute_result"
    }
   ],
   "source": [
    "jaco([1, 1, 1, 1])"
   ]
  },
  {
   "cell_type": "code",
   "execution_count": 55,
   "metadata": {},
   "outputs": [
    {
     "data": {
      "text/plain": [
       "4"
      ]
     },
     "execution_count": 55,
     "metadata": {},
     "output_type": "execute_result"
    }
   ],
   "source": [
    "np.linalg.matrix_rank(jaco([1,1,1,1]))"
   ]
  },
  {
   "cell_type": "code",
   "execution_count": 56,
   "metadata": {},
   "outputs": [
    {
     "data": {
      "text/plain": [
       "array([ 0.        , -0.14390034, -0.24184778, -0.31333689, -0.36617268,\n",
       "       -0.4111514 , -0.44836636, -0.47965839, -0.50653766, -0.52835587,\n",
       "       -0.54814289, -0.58742535, -0.60678983, -0.62060764, -0.62945066,\n",
       "       -0.63483522, -0.63942573, -0.63972339, -0.6396838 , -0.6393554 ,\n",
       "       -0.63802677])"
      ]
     },
     "execution_count": 56,
     "metadata": {},
     "output_type": "execute_result"
    }
   ],
   "source": [
    "em_fun_at_380([1, 2, 3, 4])"
   ]
  },
  {
   "cell_type": "code",
   "execution_count": 57,
   "metadata": {},
   "outputs": [],
   "source": [
    "from scipy.optimize import Bounds"
   ]
  },
  {
   "cell_type": "code",
   "execution_count": 61,
   "metadata": {},
   "outputs": [],
   "source": [
    "# ini_guess = [41.5, .06, 1.1, .25]\n",
    "ini_guess = [6.03599333e+00, 4.61655475e-01, 1.42647085e+00, 1]\n",
    "\n",
    "# sol = opt.root(\n",
    "#     em_fun_at_380, \n",
    "#     ini_guess, \n",
    "# #     jac=jaco, \n",
    "#     method='lm',\n",
    "# #     bounds=Bounds([0], [np.inf])\n",
    "# )\n",
    "\n",
    "sol = opt.least_squares(\n",
    "    em_fun_at_380, \n",
    "    ini_guess, \n",
    "#     jac=jaco, \n",
    "#     method='lm',\n",
    "    bounds=(0, np.inf),\n",
    "    x_scale='jac'\n",
    ")\n"
   ]
  },
  {
   "cell_type": "code",
   "execution_count": 62,
   "metadata": {},
   "outputs": [
    {
     "data": {
      "text/plain": [
       "True"
      ]
     },
     "execution_count": 62,
     "metadata": {},
     "output_type": "execute_result"
    }
   ],
   "source": [
    "sol.success"
   ]
  },
  {
   "cell_type": "code",
   "execution_count": 63,
   "metadata": {},
   "outputs": [
    {
     "data": {
      "text/plain": [
       " active_mask: array([ 0,  0,  0, -1])\n",
       "        cost: 0.00010986484678516483\n",
       "         fun: array([ 0.        , -0.00633294, -0.00475546, -0.00141617,  0.00367149,\n",
       "        0.00455645,  0.00431156,  0.00324973,  0.00137559,  0.00043335,\n",
       "       -0.00179454, -0.00799151, -0.00343979, -0.00119496,  0.00049218,\n",
       "        0.0016331 ,  0.00061278,  0.00167486,  0.00140605,  0.00016061,\n",
       "       -0.00104628])\n",
       "        grad: array([ 6.23554176e-11,  4.39075729e-11, -8.25903406e-16,  4.36736131e-10])\n",
       "         jac: array([[ 0.00000000e+00,  0.00000000e+00,  0.00000000e+00,\n",
       "         0.00000000e+00],\n",
       "       [ 1.84277566e-02, -1.49674714e-03,  1.13785253e-06,\n",
       "         1.49011612e-08],\n",
       "       [ 2.72798682e-02, -6.51060417e-03,  1.95129871e-06,\n",
       "         5.21540642e-08],\n",
       "       [ 3.13695655e-02, -1.46982409e-02,  2.55417222e-06,\n",
       "         1.04308128e-07],\n",
       "       [ 3.29604390e-02, -2.52912194e-02,  3.01313854e-06,\n",
       "         1.63912773e-07],\n",
       "       [ 3.31982975e-02, -3.75661328e-02,  3.36978624e-06,\n",
       "         2.23517418e-07],\n",
       "       [ 3.26955987e-02, -5.09416237e-02,  3.65137078e-06,\n",
       "         2.90572643e-07],\n",
       "       [ 3.17931443e-02, -6.49759769e-02,  3.87647447e-06,\n",
       "         3.50177288e-07],\n",
       "       [ 3.06860925e-02, -7.93418512e-02,  4.05818299e-06,\n",
       "         4.17232513e-07],\n",
       "       [ 2.94882833e-02, -9.38000008e-02,  4.20596369e-06,\n",
       "         4.84287739e-07],\n",
       "       [ 2.82666398e-02, -1.08177505e-01,  4.32682408e-06,\n",
       "         5.51342964e-07],\n",
       "       [ 2.53259149e-02, -1.43045396e-01,  4.54296669e-06,\n",
       "         6.92903996e-07],\n",
       "       [ 2.24854347e-02, -1.78479455e-01,  4.68486813e-06,\n",
       "         8.56816769e-07],\n",
       "       [ 1.99997598e-02, -2.11691201e-01,  4.76795751e-06,\n",
       "         1.00582838e-06],\n",
       "       [ 1.78542409e-02, -2.42426723e-01,  4.81157493e-06,\n",
       "         1.15483999e-06],\n",
       "       [ 1.60086772e-02, -2.70654693e-01,  4.82805126e-06,\n",
       "         1.28895044e-06],\n",
       "       [ 1.44192714e-02, -2.96459645e-01,  4.82554757e-06,\n",
       "         1.42306089e-06],\n",
       "       [ 1.30459240e-02, -3.19983259e-01,  4.80962818e-06,\n",
       "         1.54972076e-06],\n",
       "       [ 1.18541692e-02, -3.41391638e-01,  4.78417932e-06,\n",
       "         1.66893005e-06],\n",
       "       [ 1.08151565e-02, -3.60857233e-01,  4.75196860e-06,\n",
       "         1.77323818e-06],\n",
       "       [ 9.90499231e-03, -3.78548883e-01,  4.71499844e-06,\n",
       "         1.87754631e-06]])\n",
       "     message: '`gtol` termination condition is satisfied.'\n",
       "        nfev: 48\n",
       "        njev: 40\n",
       "  optimality: 3.763768935347699e-10\n",
       "      status: 1\n",
       "     success: True\n",
       "           x: array([6.03599347e+00, 4.61655459e-01, 1.42647084e+05, 9.56137502e-11])"
      ]
     },
     "execution_count": 63,
     "metadata": {},
     "output_type": "execute_result"
    }
   ],
   "source": [
    "sol"
   ]
  },
  {
   "cell_type": "code",
   "execution_count": 64,
   "metadata": {},
   "outputs": [],
   "source": [
    "def Absorbance_380(params):\n",
    "    \n",
    "    return em_fun_at_380(params)+od_380"
   ]
  },
  {
   "cell_type": "code",
   "execution_count": 65,
   "metadata": {},
   "outputs": [
    {
     "data": {
      "text/plain": [
       "<matplotlib.legend.Legend at 0x101ca92e48>"
      ]
     },
     "execution_count": 65,
     "metadata": {},
     "output_type": "execute_result"
    },
    {
     "data": {
      "image/png": "[encoded data removed]",
      "text/plain": [
       "<Figure size 432x288 with 1 Axes>"
      ]
     },
     "metadata": {
      "needs_background": "light"
     },
     "output_type": "display_data"
    }
   ],
   "source": [
    "\n",
    "## Plot initial guess\n",
    "plt.plot(\n",
    "    con_X, \n",
    "    Absorbance_380(ini_guess), \n",
    "    ls='--',\n",
    "    c='k',\n",
    "    label='initial guess')\n",
    "\n",
    "plt.plot(con_X, Absorbance_380(sol.x), label='result!?!?!')\n",
    "\n",
    "plt.xlabel('[X]')\n",
    "plt.ylabel('OD')\n",
    "plt.scatter(con_X, od_380, c='C1')\n",
    "plt.title('380 nm')\n",
    "plt.legend()\n"
   ]
  },
  {
   "cell_type": "code",
   "execution_count": 66,
   "metadata": {},
   "outputs": [],
   "source": [
    "fit_params = sol.x"
   ]
  },
  {
   "cell_type": "markdown",
   "metadata": {},
   "source": [
    "### Try with Jacobian"
   ]
  },
  {
   "cell_type": "code",
   "execution_count": 70,
   "metadata": {},
   "outputs": [],
   "source": [
    "# ini_guess = [41.5, .06, 1.1, .25]\n",
    "ini_guess = [6.03599333e+00, 4.61655475e-01, 1.42647085e+00, 1]\n",
    "\n",
    "sol_jac = opt.least_squares(\n",
    "    em_fun_at_380, \n",
    "    ini_guess, \n",
    "    jac=jaco, \n",
    "#     method='lm',\n",
    "    bounds=(0, np.inf),\n",
    "    x_scale='jac'\n",
    ")\n"
   ]
  },
  {
   "cell_type": "code",
   "execution_count": 71,
   "metadata": {
    "collapsed": true,
    "jupyter": {
     "outputs_hidden": true
    }
   },
   "outputs": [
    {
     "data": {
      "text/plain": [
       " active_mask: array([ 0,  0,  0, -1])\n",
       "        cost: 0.00010986484678516345\n",
       "         fun: array([ 0.        , -0.00633295, -0.00475546, -0.00141617,  0.00367149,\n",
       "        0.00455645,  0.00431156,  0.00324973,  0.00137559,  0.00043335,\n",
       "       -0.00179454, -0.00799151, -0.00343979, -0.00119496,  0.00049218,\n",
       "        0.0016331 ,  0.00061278,  0.00167486,  0.00140605,  0.00016061,\n",
       "       -0.00104628])\n",
       "        grad: array([ 6.82643303e-11,  1.98063948e-10, -9.13825135e-18,  3.34970033e-10])\n",
       "         jac: array([[ 0.00000000e+00,  0.00000000e+00,  0.00000000e+00,\n",
       "         0.00000000e+00],\n",
       "       [ 1.84277567e-02, -1.49674884e-03,  1.13785253e-06,\n",
       "         1.56028466e-08],\n",
       "       [ 2.72798681e-02, -6.51060642e-03,  1.95129871e-06,\n",
       "         5.29898654e-08],\n",
       "       [ 3.13695663e-02, -1.46982405e-02,  2.55417220e-06,\n",
       "         1.03032310e-07],\n",
       "       [ 3.29604404e-02, -2.52912222e-02,  3.01313853e-06,\n",
       "         1.60503677e-07],\n",
       "       [ 3.31982993e-02, -3.75661228e-02,  3.36978624e-06,\n",
       "         2.22240033e-07],\n",
       "       [ 3.26955993e-02, -5.09416136e-02,  3.65137081e-06,\n",
       "         2.86246747e-07],\n",
       "       [ 3.17931438e-02, -6.49759735e-02,  3.87647444e-06,\n",
       "         3.51229045e-07],\n",
       "       [ 3.06860938e-02, -7.93418467e-02,  4.05818297e-06,\n",
       "         4.16329410e-07],\n",
       "       [ 2.94882829e-02, -9.38000040e-02,  4.20596369e-06,\n",
       "         4.80973076e-07],\n",
       "       [ 2.82666400e-02, -1.08177503e-01,  4.32682403e-06,\n",
       "         5.44773261e-07],\n",
       "       [ 2.53259149e-02, -1.43045401e-01,  4.54296668e-06,\n",
       "         6.99095131e-07],\n",
       "       [ 2.24854348e-02, -1.78479447e-01,  4.68486812e-06,\n",
       "         8.57495803e-07],\n",
       "       [ 1.99997602e-02, -2.11691195e-01,  4.76795750e-06,\n",
       "         1.00926258e-06],\n",
       "       [ 1.78542414e-02, -2.42426718e-01,  4.81157493e-06,\n",
       "         1.15391681e-06],\n",
       "       [ 1.60086777e-02, -2.70654690e-01,  4.82805127e-06,\n",
       "         1.29142058e-06],\n",
       "       [ 1.44192708e-02, -2.96459646e-01,  4.82554754e-06,\n",
       "         1.42196195e-06],\n",
       "       [ 1.30459240e-02, -3.19983251e-01,  4.80962817e-06,\n",
       "         1.54584192e-06],\n",
       "       [ 1.18541700e-02, -3.41391635e-01,  4.78417934e-06,\n",
       "         1.66341279e-06],\n",
       "       [ 1.08151562e-02, -3.60857239e-01,  4.75196860e-06,\n",
       "         1.77504395e-06],\n",
       "       [ 9.90499296e-03, -3.78548885e-01,  4.71499839e-06,\n",
       "         1.88110289e-06]])\n",
       "     message: '`gtol` termination condition is satisfied.'\n",
       "        nfev: 51\n",
       "        njev: 41\n",
       "  optimality: 4.120430491442755e-10\n",
       "      status: 1\n",
       "     success: True\n",
       "           x: array([6.03599343e+00, 4.61655464e-01, 1.42647084e+05, 4.87313761e-11])"
      ]
     },
     "execution_count": 71,
     "metadata": {},
     "output_type": "execute_result"
    }
   ],
   "source": [
    "sol_jac"
   ]
  },
  {
   "cell_type": "code",
   "execution_count": 72,
   "metadata": {},
   "outputs": [
    {
     "name": "stderr",
     "output_type": "stream",
     "text": [
      "/Users/chair/anaconda/envs/py36/lib/python3.6/site-packages/ipykernel_launcher.py:2: RuntimeWarning: invalid value encountered in true_divide\n",
      "  \n"
     ]
    },
    {
     "data": {
      "text/plain": [
       "array([[            nan,             nan,             nan,\n",
       "                    nan],\n",
       "       [ 2.21890330e-10, -1.14182090e-06, -2.02126580e-09,\n",
       "        -4.70893063e-02],\n",
       "       [ 7.75894613e-09, -3.50876941e-07, -3.67617577e-09,\n",
       "        -1.60256146e-02],\n",
       "       [-1.57661555e-08,  2.23860715e-08,  4.61594667e-09,\n",
       "         1.22312491e-02],\n",
       "       [-3.29989136e-08, -1.15970217e-07,  3.38483176e-10,\n",
       "         2.07982408e-02],\n",
       "       [-4.52540491e-08,  2.63442015e-07, -4.27314156e-09,\n",
       "         5.71492832e-03],\n",
       "       [-7.68108819e-09,  1.95334043e-07, -1.36590410e-08,\n",
       "         1.48874931e-02],\n",
       "       [ 2.71318470e-08,  4.96830146e-08,  3.73661874e-09,\n",
       "        -3.00349057e-03],\n",
       "       [-3.09190821e-08,  5.30784252e-08, -1.31762369e-10,\n",
       "         2.16451597e-03],\n",
       "       [ 2.35303059e-08, -3.65209274e-08, -3.41802837e-09,\n",
       "         6.84441554e-03],\n",
       "       [ 1.60333021e-09,  2.25901715e-08,  8.35661829e-09,\n",
       "         1.19158259e-02],\n",
       "       [ 9.74161291e-09, -4.14913610e-08, -2.68152890e-09,\n",
       "        -8.93504814e-03],\n",
       "       [ 9.20924152e-09,  4.23542397e-08, -2.19752043e-09,\n",
       "        -7.92500148e-04],\n",
       "       [-6.48561950e-09,  2.33616278e-08, -1.10811142e-09,\n",
       "        -3.41429509e-03],\n",
       "       [-2.12027637e-08,  2.07898348e-08, -3.92836602e-09,\n",
       "         7.99409928e-04],\n",
       "       [-1.60112822e-08,  9.89606047e-09, -5.42926004e-09,\n",
       "        -1.91638262e-03],\n",
       "       [ 5.21643428e-08, -8.01780615e-09,  3.84465948e-09,\n",
       "         7.72246039e-04],\n",
       "       [ 1.18015529e-08,  2.10089184e-08, -7.30373197e-10,\n",
       "         2.50293640e-03],\n",
       "       [-5.42105463e-08,  5.31977953e-09, -7.55747089e-09,\n",
       "         3.30587754e-03],\n",
       "       [ 4.26294479e-08, -2.02240744e-08, -4.74336024e-09,\n",
       "        -1.01834021e-03],\n",
       "       [-5.61989930e-08, -9.74064165e-09,  6.57112425e-09,\n",
       "        -1.89426296e-03]])"
      ]
     },
     "execution_count": 72,
     "metadata": {},
     "output_type": "execute_result"
    }
   ],
   "source": [
    "## Compare computed Jacobian at solution to analytic \n",
    "(sol.jac - jaco(sol.x))/(sol.jac)"
   ]
  },
  {
   "cell_type": "code",
   "execution_count": 74,
   "metadata": {},
   "outputs": [
    {
     "data": {
      "text/plain": [
       "array([ 6.70901216e-09, -1.04595670e-08, -2.96369722e-09,  4.90330879e-01])"
      ]
     },
     "execution_count": 74,
     "metadata": {},
     "output_type": "execute_result"
    }
   ],
   "source": [
    "## Compare resulting parameters\n",
    "(sol.x - sol_jac.x)/sol.x"
   ]
  },
  {
   "cell_type": "code",
   "execution_count": 75,
   "metadata": {},
   "outputs": [
    {
     "data": {
      "text/plain": [
       "array([6.03599347e+00, 4.61655459e-01, 1.42647084e+05, 9.56137502e-11])"
      ]
     },
     "execution_count": 75,
     "metadata": {},
     "output_type": "execute_result"
    }
   ],
   "source": [
    "sol.x"
   ]
  },
  {
   "cell_type": "code",
   "execution_count": 76,
   "metadata": {},
   "outputs": [
    {
     "data": {
      "text/plain": [
       "array([6.03599343e+00, 4.61655464e-01, 1.42647084e+05, 4.87313761e-11])"
      ]
     },
     "execution_count": 76,
     "metadata": {},
     "output_type": "execute_result"
    }
   ],
   "source": [
    "sol_jac.x"
   ]
  },
  {
   "cell_type": "code",
   "execution_count": null,
   "metadata": {},
   "outputs": [],
   "source": []
  }
 ],
 "metadata": {
  "kernelspec": {
   "display_name": "Python 3",
   "language": "python",
   "name": "python3"
  },
  "language_info": {
   "codemirror_mode": {
    "name": "ipython",
    "version": 3
   },
   "file_extension": ".py",
   "mimetype": "text/x-python",
   "name": "python",
   "nbconvert_exporter": "python",
   "pygments_lexer": "ipython3",
   "version": "3.6.7"
  }
 },
 "nbformat": 4,
 "nbformat_minor": 4
}
