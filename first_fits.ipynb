{
 "cells": [
  {
   "cell_type": "code",
   "execution_count": 12,
   "metadata": {},
   "outputs": [],
   "source": [
    "import numpy as np\n",
    "import scipy.optimize as opt\n",
    "import matplotlib.pyplot as plt"
   ]
  },
  {
   "cell_type": "code",
   "execution_count": 13,
   "metadata": {},
   "outputs": [],
   "source": [
    "data = np.loadtxt(\n",
    "    '3wavelengths_try1.dat',\n",
    "    skiprows=1,\n",
    "    delimiter=','\n",
    ")"
   ]
  },
  {
   "cell_type": "code",
   "execution_count": 14,
   "metadata": {},
   "outputs": [],
   "source": [
    "phoh, od_380, od_400, od_365 = data.T"
   ]
  },
  {
   "cell_type": "markdown",
   "metadata": {},
   "source": [
    "### Outline of problem"
   ]
  },
  {
   "cell_type": "markdown",
   "metadata": {},
   "source": [
    "Unknowns: \n",
    "\n"
   ]
  },
  {
   "cell_type": "code",
   "execution_count": 15,
   "metadata": {},
   "outputs": [],
   "source": [
    "con_N0 = 7.5 * 1e-6\n",
    "eps_N_380 = od_380[0] / con_N0 \n",
    "con_X = phoh\n",
    "\n",
    "def con_NX(K1, K2):\n",
    "    \n",
    "    con = (\n",
    "        K1 * con_N0 * con_X\n",
    "        )/(\n",
    "        1 + K1*con_X + K1*K2*con_X**2.\n",
    "        )\n",
    "    \n",
    "    return con\n",
    "\n",
    "def con_NX2(K1, K2):\n",
    "    \n",
    "    con = con_NX(K1, K2) * K2 * con_X\n",
    "    \n",
    "    return con\n",
    "    "
   ]
  },
  {
   "cell_type": "code",
   "execution_count": 16,
   "metadata": {},
   "outputs": [
    {
     "data": {
      "text/plain": [
       "array([ 26759.6110854 ,    764.40925274, 117201.82301074])"
      ]
     },
     "execution_count": 16,
     "metadata": {},
     "output_type": "execute_result"
    }
   ],
   "source": [
    "eps_N_vec"
   ]
  },
  {
   "cell_type": "code",
   "execution_count": 17,
   "metadata": {},
   "outputs": [
    {
     "data": {
      "text/plain": [
       "26759.611085404536"
      ]
     },
     "execution_count": 17,
     "metadata": {},
     "output_type": "execute_result"
    }
   ],
   "source": [
    "eps_N_380"
   ]
  },
  {
   "cell_type": "code",
   "execution_count": 18,
   "metadata": {},
   "outputs": [],
   "source": [
    "def con_N(K1, K2):\n",
    "    \n",
    "    con = con_N0 - con_NX(K1, K2) - con_NX2(K1, K2)\n",
    "    \n",
    "    return con"
   ]
  },
  {
   "cell_type": "code",
   "execution_count": 20,
   "metadata": {},
   "outputs": [
    {
     "data": {
      "text/plain": [
       "array([7.50000000e-06, 7.27741843e-06, 7.06026059e-06, 6.84922958e-06,\n",
       "       6.64482307e-06, 6.44736842e-06, 6.25705376e-06, 6.07395487e-06,\n",
       "       5.89805825e-06, 5.72928052e-06, 5.56748466e-06, 5.19230769e-06,\n",
       "       4.82728363e-06, 4.49437785e-06, 4.19148836e-06, 3.91623946e-06,\n",
       "       3.66618721e-06, 3.43894644e-06, 3.23226398e-06, 3.04405630e-06,\n",
       "       2.87242426e-06, 7.50000000e-06, 7.27741843e-06, 7.06026059e-06,\n",
       "       6.84922958e-06, 6.64482307e-06, 6.44736842e-06, 6.25705376e-06,\n",
       "       6.07395487e-06, 5.89805825e-06, 5.72928052e-06, 5.56748466e-06,\n",
       "       5.19230769e-06, 4.82728363e-06, 4.49437785e-06, 4.19148836e-06,\n",
       "       3.91623946e-06, 3.66618721e-06, 3.43894644e-06, 3.23226398e-06,\n",
       "       3.04405630e-06, 2.87242426e-06])"
      ]
     },
     "execution_count": 20,
     "metadata": {},
     "output_type": "execute_result"
    }
   ],
   "source": [
    "np.hstack((con_N(1,1),con_N(1,1)))"
   ]
  },
  {
   "cell_type": "code",
   "execution_count": 23,
   "metadata": {},
   "outputs": [],
   "source": [
    "def em_fun_at_380(unknowns):\n",
    "    \"\"\" System of equations \"\"\"\n",
    "    K1, K2 = unknowns[:2]\n",
    "    eps_NX = unknowns[2]#*1e5\n",
    "    eps_NX2 = unknowns[3]#*1e4\n",
    "    \n",
    "    f = (\n",
    "        eps_N * con_N(K1, K2)\n",
    "        + \n",
    "        eps_NX * con_NX(K1, K2) \n",
    "        +\n",
    "        eps_NX2 * con_NX2(K1, K2)\n",
    "        ) - od_380\n",
    "    \n",
    "    return f"
   ]
  },
  {
   "cell_type": "code",
   "execution_count": 53,
   "metadata": {},
   "outputs": [],
   "source": [
    "def d_NX_d_K1(K1, K2):\n",
    "    \n",
    "    first_term = (\n",
    "        con_N0 * con_X \n",
    "        * \n",
    "        (1 + K1*con_X + K1*K2*con_X**2.)**(-1.)\n",
    "        )\n",
    "    \n",
    "    second_term = (\n",
    "        K1 * con_N0 * con_X \n",
    "        *\n",
    "        (-1)*(1 + K1*con_X + K1*K2*con_X**2.)**(-2.)\n",
    "        *\n",
    "        (con_X + K2*con_X**2.)\n",
    "        )\n",
    "    \n",
    "    return first_term + second_term\n",
    "\n",
    "\n",
    "def d_NX2_d_K1(K1, K2):\n",
    "    \n",
    "    return con_X * K2 * d_NX_d_K1(K1, K2) \n",
    "\n",
    "\n",
    "def d_NX_d_K2(K1, K2):\n",
    "    \n",
    "    der = (\n",
    "        K1*con_N0*con_X\n",
    "        *\n",
    "        (-1)*(1 + K1*con_X + K1*K2*con_X**2.)**(-2.)\n",
    "        *\n",
    "        K1*con_X**2.\n",
    "        )\n",
    "    \n",
    "    return der\n",
    "\n",
    "\n",
    "def d_NX2_d_K2(K1, K2):\n",
    "    \n",
    "    der = con_X * (\n",
    "        con_NX(K1, K2) \n",
    "        + \n",
    "        K2 * d_NX_d_K2(K1, K2)\n",
    "        )\n",
    "    \n",
    "    return der\n",
    "\n",
    "\n",
    "def d_N_d_K1(K1, K2):\n",
    "    \n",
    "    return -d_NX_d_K1(K1, K2) - d_NX2_d_K1(K1, K2)\n",
    "    \n",
    "    \n",
    "def d_N_d_K2(K1, K2):\n",
    "    \n",
    "    return -d_NX_d_K2(K1, K2) - d_NX2_d_K2(K1, K2)\n",
    "\n",
    "\n",
    "def jaco(unknowns):\n",
    "    \n",
    "    K1, K2 = unknowns[:2]\n",
    "    eps_NX = unknowns[2]#*1e5\n",
    "    eps_NX2 = unknowns[3]#*1e4\n",
    "    \n",
    "    ## Take derivitives with respect to K1\n",
    "    ddk1 = (\n",
    "        eps_N*d_N_d_K1(K1, K2)\n",
    "        +\n",
    "        eps_NX*d_NX_d_K1(K1, K2)\n",
    "        +\n",
    "        eps_NX2*d_NX2_d_K1(K1, K2)\n",
    "        )\n",
    "    \n",
    "    ddk2 = (\n",
    "        eps_N*d_N_d_K2(K1, K2)\n",
    "        +\n",
    "        eps_NX*d_NX_d_K2(K1, K2)\n",
    "        +\n",
    "        eps_NX2*d_NX2_d_K2(K1, K2)\n",
    "        )\n",
    "    \n",
    "    ddepsNX = con_NX(K1, K2)\n",
    "    \n",
    "    ddepsNX2 = con_NX2(K1, K2)\n",
    "    \n",
    "    j = np.vstack((ddk1, ddk2, ddepsNX, ddepsNX2))\n",
    "    \n",
    "    return j.T"
   ]
  },
  {
   "cell_type": "code",
   "execution_count": 54,
   "metadata": {},
   "outputs": [
    {
     "data": {
      "text/plain": [
       "array([[ 0.00000000e+00,  0.00000000e+00,  0.00000000e+00,\n",
       "         0.00000000e+00],\n",
       "       [-5.77921490e-03, -1.66708122e-04,  2.16160944e-07,\n",
       "         6.42062209e-09],\n",
       "       [-1.10769049e-02, -6.15383606e-04,  4.15309446e-07,\n",
       "         2.44299674e-08],\n",
       "       [-1.59027354e-02, -1.27789838e-03,  5.98476371e-07,\n",
       "         5.22940518e-08],\n",
       "       [-2.02741056e-02, -2.09732127e-03,  7.66710354e-07,\n",
       "         8.84665793e-08],\n",
       "       [-2.42137016e-02, -3.02671270e-03,  9.21052632e-07,\n",
       "         1.31578947e-07],\n",
       "       [-2.77475432e-02, -4.02786917e-03,  1.06251856e-06,\n",
       "         1.80427680e-07],\n",
       "       [-3.09034620e-02, -5.07009924e-03,  1.19208460e-06,\n",
       "         2.33960529e-07],\n",
       "       [-3.37099479e-02, -6.12908143e-03,  1.31067961e-06,\n",
       "         2.91262136e-07],\n",
       "       [-3.61952979e-02, -7.18583120e-03,  1.41917958e-06,\n",
       "         3.51539896e-07],\n",
       "       [-3.83870097e-02, -8.22578780e-03,  1.51840491e-06,\n",
       "         4.14110429e-07],\n",
       "       [-4.27504437e-02, -1.06876109e-02,  1.73076923e-06,\n",
       "         5.76923077e-07],\n",
       "       [-4.60318039e-02, -1.30689664e-02,  1.91390100e-06,\n",
       "         7.58815374e-07],\n",
       "       [-4.81954754e-02, -1.51512722e-02,  2.06074094e-06,\n",
       "         9.44881215e-07],\n",
       "       [-4.94769860e-02, -1.69152089e-02,  2.17739655e-06,\n",
       "         1.13111509e-06],\n",
       "       [-5.00737972e-02, -1.83694637e-02,  2.26906578e-06,\n",
       "         1.31469476e-06],\n",
       "       [-5.01473334e-02, -1.95379221e-02,  2.34011950e-06,\n",
       "         1.49369329e-06],\n",
       "       [-4.98271943e-02, -2.04514603e-02,  2.39420322e-06,\n",
       "         1.66685034e-06],\n",
       "       [-4.92160409e-02, -2.11429293e-02,  2.43434107e-06,\n",
       "         1.83339495e-06],\n",
       "       [-4.83943520e-02, -2.16442630e-02,  2.46303310e-06,\n",
       "         1.99291060e-06],\n",
       "       [-4.74246818e-02, -2.19849518e-02,  2.48234195e-06,\n",
       "         2.14523379e-06]])"
      ]
     },
     "execution_count": 54,
     "metadata": {},
     "output_type": "execute_result"
    }
   ],
   "source": [
    "jaco([1, 1, 1, 1])"
   ]
  },
  {
   "cell_type": "code",
   "execution_count": 55,
   "metadata": {},
   "outputs": [
    {
     "data": {
      "text/plain": [
       "4"
      ]
     },
     "execution_count": 55,
     "metadata": {},
     "output_type": "execute_result"
    }
   ],
   "source": [
    "np.linalg.matrix_rank(jaco([1,1,1,1]))"
   ]
  },
  {
   "cell_type": "code",
   "execution_count": 56,
   "metadata": {},
   "outputs": [
    {
     "data": {
      "text/plain": [
       "array([ 0.        , -0.14390034, -0.24184778, -0.31333689, -0.36617268,\n",
       "       -0.4111514 , -0.44836636, -0.47965839, -0.50653766, -0.52835587,\n",
       "       -0.54814289, -0.58742535, -0.60678983, -0.62060764, -0.62945066,\n",
       "       -0.63483522, -0.63942573, -0.63972339, -0.6396838 , -0.6393554 ,\n",
       "       -0.63802677])"
      ]
     },
     "execution_count": 56,
     "metadata": {},
     "output_type": "execute_result"
    }
   ],
   "source": [
    "em_fun_at_380([1, 2, 3, 4])"
   ]
  },
  {
   "cell_type": "code",
   "execution_count": 57,
   "metadata": {},
   "outputs": [],
   "source": [
    "from scipy.optimize import Bounds"
   ]
  },
  {
   "cell_type": "code",
   "execution_count": 61,
   "metadata": {},
   "outputs": [],
   "source": [
    "# ini_guess = [41.5, .06, 1.1, .25]\n",
    "ini_guess = [6.03599333e+00, 4.61655475e-01, 1.42647085e+00, 1]\n",
    "\n",
    "# sol = opt.root(\n",
    "#     em_fun_at_380, \n",
    "#     ini_guess, \n",
    "# #     jac=jaco, \n",
    "#     method='lm',\n",
    "# #     bounds=Bounds([0], [np.inf])\n",
    "# )\n",
    "\n",
    "sol = opt.least_squares(\n",
    "    em_fun_at_380, \n",
    "    ini_guess, \n",
    "#     jac=jaco, \n",
    "#     method='lm',\n",
    "    bounds=(0, np.inf),\n",
    "    x_scale='jac'\n",
    ")\n"
   ]
  },
  {
   "cell_type": "code",
   "execution_count": 62,
   "metadata": {},
   "outputs": [
    {
     "data": {
      "text/plain": [
       "True"
      ]
     },
     "execution_count": 62,
     "metadata": {},
     "output_type": "execute_result"
    }
   ],
   "source": [
    "sol.success"
   ]
  },
  {
   "cell_type": "code",
   "execution_count": 63,
   "metadata": {
    "collapsed": true
   },
   "outputs": [
    {
     "data": {
      "text/plain": [
       " active_mask: array([ 0,  0,  0, -1])\n",
       "        cost: 0.00010986484678516483\n",
       "         fun: array([ 0.        , -0.00633294, -0.00475546, -0.00141617,  0.00367149,\n",
       "        0.00455645,  0.00431156,  0.00324973,  0.00137559,  0.00043335,\n",
       "       -0.00179454, -0.00799151, -0.00343979, -0.00119496,  0.00049218,\n",
       "        0.0016331 ,  0.00061278,  0.00167486,  0.00140605,  0.00016061,\n",
       "       -0.00104628])\n",
       "        grad: array([ 6.23554176e-11,  4.39075729e-11, -8.25903406e-16,  4.36736131e-10])\n",
       "         jac: array([[ 0.00000000e+00,  0.00000000e+00,  0.00000000e+00,\n",
       "         0.00000000e+00],\n",
       "       [ 1.84277566e-02, -1.49674714e-03,  1.13785253e-06,\n",
       "         1.49011612e-08],\n",
       "       [ 2.72798682e-02, -6.51060417e-03,  1.95129871e-06,\n",
       "         5.21540642e-08],\n",
       "       [ 3.13695655e-02, -1.46982409e-02,  2.55417222e-06,\n",
       "         1.04308128e-07],\n",
       "       [ 3.29604390e-02, -2.52912194e-02,  3.01313854e-06,\n",
       "         1.63912773e-07],\n",
       "       [ 3.31982975e-02, -3.75661328e-02,  3.36978624e-06,\n",
       "         2.23517418e-07],\n",
       "       [ 3.26955987e-02, -5.09416237e-02,  3.65137078e-06,\n",
       "         2.90572643e-07],\n",
       "       [ 3.17931443e-02, -6.49759769e-02,  3.87647447e-06,\n",
       "         3.50177288e-07],\n",
       "       [ 3.06860925e-02, -7.93418512e-02,  4.05818299e-06,\n",
       "         4.17232513e-07],\n",
       "       [ 2.94882833e-02, -9.38000008e-02,  4.20596369e-06,\n",
       "         4.84287739e-07],\n",
       "       [ 2.82666398e-02, -1.08177505e-01,  4.32682408e-06,\n",
       "         5.51342964e-07],\n",
       "       [ 2.53259149e-02, -1.43045396e-01,  4.54296669e-06,\n",
       "         6.92903996e-07],\n",
       "       [ 2.24854347e-02, -1.78479455e-01,  4.68486813e-06,\n",
       "         8.56816769e-07],\n",
       "       [ 1.99997598e-02, -2.11691201e-01,  4.76795751e-06,\n",
       "         1.00582838e-06],\n",
       "       [ 1.78542409e-02, -2.42426723e-01,  4.81157493e-06,\n",
       "         1.15483999e-06],\n",
       "       [ 1.60086772e-02, -2.70654693e-01,  4.82805126e-06,\n",
       "         1.28895044e-06],\n",
       "       [ 1.44192714e-02, -2.96459645e-01,  4.82554757e-06,\n",
       "         1.42306089e-06],\n",
       "       [ 1.30459240e-02, -3.19983259e-01,  4.80962818e-06,\n",
       "         1.54972076e-06],\n",
       "       [ 1.18541692e-02, -3.41391638e-01,  4.78417932e-06,\n",
       "         1.66893005e-06],\n",
       "       [ 1.08151565e-02, -3.60857233e-01,  4.75196860e-06,\n",
       "         1.77323818e-06],\n",
       "       [ 9.90499231e-03, -3.78548883e-01,  4.71499844e-06,\n",
       "         1.87754631e-06]])\n",
       "     message: '`gtol` termination condition is satisfied.'\n",
       "        nfev: 48\n",
       "        njev: 40\n",
       "  optimality: 3.763768935347699e-10\n",
       "      status: 1\n",
       "     success: True\n",
       "           x: array([6.03599347e+00, 4.61655459e-01, 1.42647084e+05, 9.56137502e-11])"
      ]
     },
     "execution_count": 63,
     "metadata": {},
     "output_type": "execute_result"
    }
   ],
   "source": [
    "sol"
   ]
  },
  {
   "cell_type": "code",
   "execution_count": 64,
   "metadata": {},
   "outputs": [],
   "source": [
    "def Absorbance_380(params):\n",
    "    \n",
    "    return em_fun_at_380(params)+od_380"
   ]
  },
  {
   "cell_type": "code",
   "execution_count": 65,
   "metadata": {},
   "outputs": [
    {
     "data": {
      "text/plain": [
       "<matplotlib.legend.Legend at 0x101ca92e48>"
      ]
     },
     "execution_count": 65,
     "metadata": {},
     "output_type": "execute_result"
    },
    {
     "data": {
      "image/png": "[encoded data removed]",
      "text/plain": [
       "<Figure size 432x288 with 1 Axes>"
      ]
     },
     "metadata": {
      "needs_background": "light"
     },
     "output_type": "display_data"
    }
   ],
   "source": [
    "\n",
    "## Plot initial guess\n",
    "plt.plot(\n",
    "    con_X, \n",
    "    Absorbance_380(ini_guess), \n",
    "    ls='--',\n",
    "    c='k',\n",
    "    label='initial guess')\n",
    "\n",
    "plt.plot(con_X, Absorbance_380(sol.x), label='result!?!?!')\n",
    "\n",
    "plt.xlabel('[X]')\n",
    "plt.ylabel('OD')\n",
    "plt.scatter(con_X, od_380, c='C1')\n",
    "plt.title('380 nm')\n",
    "plt.legend()\n"
   ]
  },
  {
   "cell_type": "code",
   "execution_count": 66,
   "metadata": {},
   "outputs": [],
   "source": [
    "fit_params = sol.x"
   ]
  },
  {
   "cell_type": "markdown",
   "metadata": {},
   "source": [
    "### Try with Jacobian"
   ]
  },
  {
   "cell_type": "code",
   "execution_count": 70,
   "metadata": {},
   "outputs": [],
   "source": [
    "# ini_guess = [41.5, .06, 1.1, .25]\n",
    "ini_guess = [6.03599333e+00, 4.61655475e-01, 1.42647085e+00, 1]\n",
    "\n",
    "sol_jac = opt.least_squares(\n",
    "    em_fun_at_380, \n",
    "    ini_guess, \n",
    "    jac=jaco, \n",
    "#     method='lm',\n",
    "    bounds=(0, np.inf),\n",
    "    x_scale='jac'\n",
    ")\n"
   ]
  },
  {
   "cell_type": "code",
   "execution_count": 71,
   "metadata": {
    "jupyter": {
     "outputs_hidden": true
    },
    "scrolled": true
   },
   "outputs": [
    {
     "data": {
      "text/plain": [
       " active_mask: array([ 0,  0,  0, -1])\n",
       "        cost: 0.00010986484678516345\n",
       "         fun: array([ 0.        , -0.00633295, -0.00475546, -0.00141617,  0.00367149,\n",
       "        0.00455645,  0.00431156,  0.00324973,  0.00137559,  0.00043335,\n",
       "       -0.00179454, -0.00799151, -0.00343979, -0.00119496,  0.00049218,\n",
       "        0.0016331 ,  0.00061278,  0.00167486,  0.00140605,  0.00016061,\n",
       "       -0.00104628])\n",
       "        grad: array([ 6.82643303e-11,  1.98063948e-10, -9.13825135e-18,  3.34970033e-10])\n",
       "         jac: array([[ 0.00000000e+00,  0.00000000e+00,  0.00000000e+00,\n",
       "         0.00000000e+00],\n",
       "       [ 1.84277567e-02, -1.49674884e-03,  1.13785253e-06,\n",
       "         1.56028466e-08],\n",
       "       [ 2.72798681e-02, -6.51060642e-03,  1.95129871e-06,\n",
       "         5.29898654e-08],\n",
       "       [ 3.13695663e-02, -1.46982405e-02,  2.55417220e-06,\n",
       "         1.03032310e-07],\n",
       "       [ 3.29604404e-02, -2.52912222e-02,  3.01313853e-06,\n",
       "         1.60503677e-07],\n",
       "       [ 3.31982993e-02, -3.75661228e-02,  3.36978624e-06,\n",
       "         2.22240033e-07],\n",
       "       [ 3.26955993e-02, -5.09416136e-02,  3.65137081e-06,\n",
       "         2.86246747e-07],\n",
       "       [ 3.17931438e-02, -6.49759735e-02,  3.87647444e-06,\n",
       "         3.51229045e-07],\n",
       "       [ 3.06860938e-02, -7.93418467e-02,  4.05818297e-06,\n",
       "         4.16329410e-07],\n",
       "       [ 2.94882829e-02, -9.38000040e-02,  4.20596369e-06,\n",
       "         4.80973076e-07],\n",
       "       [ 2.82666400e-02, -1.08177503e-01,  4.32682403e-06,\n",
       "         5.44773261e-07],\n",
       "       [ 2.53259149e-02, -1.43045401e-01,  4.54296668e-06,\n",
       "         6.99095131e-07],\n",
       "       [ 2.24854348e-02, -1.78479447e-01,  4.68486812e-06,\n",
       "         8.57495803e-07],\n",
       "       [ 1.99997602e-02, -2.11691195e-01,  4.76795750e-06,\n",
       "         1.00926258e-06],\n",
       "       [ 1.78542414e-02, -2.42426718e-01,  4.81157493e-06,\n",
       "         1.15391681e-06],\n",
       "       [ 1.60086777e-02, -2.70654690e-01,  4.82805127e-06,\n",
       "         1.29142058e-06],\n",
       "       [ 1.44192708e-02, -2.96459646e-01,  4.82554754e-06,\n",
       "         1.42196195e-06],\n",
       "       [ 1.30459240e-02, -3.19983251e-01,  4.80962817e-06,\n",
       "         1.54584192e-06],\n",
       "       [ 1.18541700e-02, -3.41391635e-01,  4.78417934e-06,\n",
       "         1.66341279e-06],\n",
       "       [ 1.08151562e-02, -3.60857239e-01,  4.75196860e-06,\n",
       "         1.77504395e-06],\n",
       "       [ 9.90499296e-03, -3.78548885e-01,  4.71499839e-06,\n",
       "         1.88110289e-06]])\n",
       "     message: '`gtol` termination condition is satisfied.'\n",
       "        nfev: 51\n",
       "        njev: 41\n",
       "  optimality: 4.120430491442755e-10\n",
       "      status: 1\n",
       "     success: True\n",
       "           x: array([6.03599343e+00, 4.61655464e-01, 1.42647084e+05, 4.87313761e-11])"
      ]
     },
     "execution_count": 71,
     "metadata": {},
     "output_type": "execute_result"
    }
   ],
   "source": [
    "sol_jac"
   ]
  },
  {
   "cell_type": "code",
   "execution_count": 72,
   "metadata": {
    "collapsed": true
   },
   "outputs": [
    {
     "name": "stderr",
     "output_type": "stream",
     "text": [
      "/Users/chair/anaconda/envs/py36/lib/python3.6/site-packages/ipykernel_launcher.py:2: RuntimeWarning: invalid value encountered in true_divide\n",
      "  \n"
     ]
    },
    {
     "data": {
      "text/plain": [
       "array([[            nan,             nan,             nan,\n",
       "                    nan],\n",
       "       [ 2.21890330e-10, -1.14182090e-06, -2.02126580e-09,\n",
       "        -4.70893063e-02],\n",
       "       [ 7.75894613e-09, -3.50876941e-07, -3.67617577e-09,\n",
       "        -1.60256146e-02],\n",
       "       [-1.57661555e-08,  2.23860715e-08,  4.61594667e-09,\n",
       "         1.22312491e-02],\n",
       "       [-3.29989136e-08, -1.15970217e-07,  3.38483176e-10,\n",
       "         2.07982408e-02],\n",
       "       [-4.52540491e-08,  2.63442015e-07, -4.27314156e-09,\n",
       "         5.71492832e-03],\n",
       "       [-7.68108819e-09,  1.95334043e-07, -1.36590410e-08,\n",
       "         1.48874931e-02],\n",
       "       [ 2.71318470e-08,  4.96830146e-08,  3.73661874e-09,\n",
       "        -3.00349057e-03],\n",
       "       [-3.09190821e-08,  5.30784252e-08, -1.31762369e-10,\n",
       "         2.16451597e-03],\n",
       "       [ 2.35303059e-08, -3.65209274e-08, -3.41802837e-09,\n",
       "         6.84441554e-03],\n",
       "       [ 1.60333021e-09,  2.25901715e-08,  8.35661829e-09,\n",
       "         1.19158259e-02],\n",
       "       [ 9.74161291e-09, -4.14913610e-08, -2.68152890e-09,\n",
       "        -8.93504814e-03],\n",
       "       [ 9.20924152e-09,  4.23542397e-08, -2.19752043e-09,\n",
       "        -7.92500148e-04],\n",
       "       [-6.48561950e-09,  2.33616278e-08, -1.10811142e-09,\n",
       "        -3.41429509e-03],\n",
       "       [-2.12027637e-08,  2.07898348e-08, -3.92836602e-09,\n",
       "         7.99409928e-04],\n",
       "       [-1.60112822e-08,  9.89606047e-09, -5.42926004e-09,\n",
       "        -1.91638262e-03],\n",
       "       [ 5.21643428e-08, -8.01780615e-09,  3.84465948e-09,\n",
       "         7.72246039e-04],\n",
       "       [ 1.18015529e-08,  2.10089184e-08, -7.30373197e-10,\n",
       "         2.50293640e-03],\n",
       "       [-5.42105463e-08,  5.31977953e-09, -7.55747089e-09,\n",
       "         3.30587754e-03],\n",
       "       [ 4.26294479e-08, -2.02240744e-08, -4.74336024e-09,\n",
       "        -1.01834021e-03],\n",
       "       [-5.61989930e-08, -9.74064165e-09,  6.57112425e-09,\n",
       "        -1.89426296e-03]])"
      ]
     },
     "execution_count": 72,
     "metadata": {},
     "output_type": "execute_result"
    }
   ],
   "source": [
    "## Compare computed Jacobian at solution to analytic \n",
    "(sol.jac - jaco(sol.x))/(sol.jac)"
   ]
  },
  {
   "cell_type": "code",
   "execution_count": 74,
   "metadata": {},
   "outputs": [
    {
     "data": {
      "text/plain": [
       "array([ 6.70901216e-09, -1.04595670e-08, -2.96369722e-09,  4.90330879e-01])"
      ]
     },
     "execution_count": 74,
     "metadata": {},
     "output_type": "execute_result"
    }
   ],
   "source": [
    "## Compare resulting parameters\n",
    "(sol.x - sol_jac.x)/sol.x"
   ]
  },
  {
   "cell_type": "code",
   "execution_count": 75,
   "metadata": {},
   "outputs": [
    {
     "data": {
      "text/plain": [
       "array([6.03599347e+00, 4.61655459e-01, 1.42647084e+05, 9.56137502e-11])"
      ]
     },
     "execution_count": 75,
     "metadata": {},
     "output_type": "execute_result"
    }
   ],
   "source": [
    "sol.x"
   ]
  },
  {
   "cell_type": "code",
   "execution_count": 76,
   "metadata": {},
   "outputs": [
    {
     "data": {
      "text/plain": [
       "array([6.03599343e+00, 4.61655464e-01, 1.42647084e+05, 4.87313761e-11])"
      ]
     },
     "execution_count": 76,
     "metadata": {},
     "output_type": "execute_result"
    }
   ],
   "source": [
    "sol_jac.x"
   ]
  },
  {
   "cell_type": "markdown",
   "metadata": {},
   "source": [
    "# Multi wavelength..."
   ]
  },
  {
   "cell_type": "code",
   "execution_count": 31,
   "metadata": {},
   "outputs": [],
   "source": [
    "eps_N_vec = np.array([od[0] for od in data.T[1:]])/con_N0"
   ]
  },
  {
   "cell_type": "code",
   "execution_count": 25,
   "metadata": {},
   "outputs": [],
   "source": [
    "\n",
    "def em_fit_fun(unknowns):\n",
    "    \"\"\" System of equations \"\"\"\n",
    "    K1, K2 = unknowns[:2]\n",
    "    ## Check the length of eps_N_vec\n",
    "        ## 2 * len(eps_N_vec) more unknowns\n",
    "    \n",
    "    for i, eps_N in enumerate(eps_N_vec):\n",
    "    \n",
    "        eps_NX = unknowns[2*(i+1)]\n",
    "        eps_NX2 = unknowns[2*(i+1)+1]\n",
    "        \n",
    "        f = (\n",
    "            eps_N * con_N(K1, K2)\n",
    "            + \n",
    "            eps_NX * con_NX(K1, K2) \n",
    "            +\n",
    "            eps_NX2 * con_NX2(K1, K2)\n",
    "            ) - data.T[i+1]\n",
    "        \n",
    "        if i is 0:\n",
    "            f_tot = f\n",
    "        elif i is not 0:\n",
    "            f_tot = np.hstack((f_tot, f))\n",
    "\n",
    "    return f_tot"
   ]
  },
  {
   "cell_type": "code",
   "execution_count": null,
   "metadata": {},
   "outputs": [],
   "source": [
    "v"
   ]
  },
  {
   "cell_type": "code",
   "execution_count": 26,
   "metadata": {},
   "outputs": [],
   "source": [
    "# ini_guess = [41.5, .06, 1.1, .25]\n",
    "ini_guess_multi = [6.03599333e+00, 4.61655475e-01, 1.42647085e+00, 1,1.42647085e+00, 1,1.42647085e+00, 1]\n",
    "\n",
    "# sol = opt.root(\n",
    "#     em_fun_at_380, \n",
    "#     ini_guess, \n",
    "# #     jac=jaco, \n",
    "#     method='lm',\n",
    "# #     bounds=Bounds([0], [np.inf])\n",
    "# )\n",
    "\n",
    "fit_multi = opt.least_squares(\n",
    "    em_fit_fun, \n",
    "    ini_guess_multi, \n",
    "#     jac=jaco, \n",
    "#     method='lm',\n",
    "    bounds=(0, np.inf),\n",
    "    x_scale='jac'\n",
    ")\n"
   ]
  },
  {
   "cell_type": "code",
   "execution_count": 27,
   "metadata": {},
   "outputs": [
    {
     "data": {
      "text/plain": [
       " active_mask: array([0, 0, 0, 0, 0, 0, 0, 0])\n",
       "        cost: 0.0004066523983596253\n",
       "         fun: array([ 0.00000000e+00, -7.52180703e-03, -5.66519140e-03, -1.71619859e-03,\n",
       "        3.92440955e-03,  5.19447156e-03,  5.15805189e-03,  4.15430068e-03,\n",
       "        2.22266769e-03,  1.14064149e-03, -1.28090229e-03, -8.05969189e-03,\n",
       "       -4.10707341e-03, -2.30269602e-03, -8.32491468e-04,  3.34170481e-04,\n",
       "       -4.23216389e-04,  1.12112286e-03,  1.53061505e-03,  1.13473925e-03,\n",
       "        9.24492496e-04,  0.00000000e+00,  2.94721705e-03,  4.14564192e-03,\n",
       "        4.54953660e-03,  4.87991982e-03,  4.39369833e-03,  3.38646691e-03,\n",
       "        2.14911121e-03,  7.07498023e-04, -5.88596179e-04, -1.92083074e-03,\n",
       "       -5.54935616e-03, -6.05992392e-03, -6.08543617e-03, -5.26501945e-03,\n",
       "       -3.90565312e-03, -2.14881239e-03, -7.21622961e-05,  1.80256199e-03,\n",
       "        5.10368956e-03,  8.31590714e-03,  0.00000000e+00,  1.98625143e-03,\n",
       "        4.04851758e-03,  4.71944401e-03,  3.42866078e-03,  2.82317773e-03,\n",
       "        1.73558721e-03,  9.43495472e-04,  3.48422164e-04, -1.63743148e-03,\n",
       "       -3.66680809e-03, -7.74036279e-03, -3.94298171e-03, -1.64987618e-03,\n",
       "       -4.19145863e-04,  7.91379574e-04, -4.23954479e-04,  1.54858217e-03,\n",
       "        2.14714958e-03,  1.64817559e-03,  1.19066053e-03])\n",
       "        grad: array([-1.82385550e-09, -5.56402569e-09, -1.04955691e-14,  2.00750212e-14,\n",
       "        7.83458872e-14,  8.41315001e-14,  6.57377993e-14,  4.63265113e-14])\n",
       "         jac: array([[ 0.00000000e+00,  0.00000000e+00,  0.00000000e+00,\n",
       "         0.00000000e+00,  0.00000000e+00,  0.00000000e+00,\n",
       "         0.00000000e+00,  0.00000000e+00],\n",
       "       [ 1.88412366e-02, -2.08355486e-04,  1.10919256e-06,\n",
       "         2.59420967e-08,  0.00000000e+00,  0.00000000e+00,\n",
       "         0.00000000e+00,  0.00000000e+00],\n",
       "       [ 2.80257584e-02, -2.10270658e-03,  1.90168591e-06,\n",
       "         8.80823328e-08,  0.00000000e+00,  0.00000000e+00,\n",
       "         0.00000000e+00,  0.00000000e+00],\n",
       "       [ 3.22559827e-02, -6.08041137e-03,  2.48390324e-06,\n",
       "         1.70898632e-07,  0.00000000e+00,  0.00000000e+00,\n",
       "         0.00000000e+00,  0.00000000e+00],\n",
       "       [ 3.38387282e-02, -1.17861852e-02,  2.92051823e-06,\n",
       "         2.65342323e-07,  0.00000000e+00,  0.00000000e+00,\n",
       "         0.00000000e+00,  0.00000000e+00],\n",
       "       [ 3.39760853e-02, -1.87358633e-02,  3.25295531e-06,\n",
       "         3.65913722e-07,  0.00000000e+00,  0.00000000e+00,\n",
       "         0.00000000e+00,  0.00000000e+00],\n",
       "       [ 3.33232243e-02, -2.64960304e-02,  3.50887492e-06,\n",
       "         4.69173224e-07,  0.00000000e+00,  0.00000000e+00,\n",
       "         0.00000000e+00,  0.00000000e+00],\n",
       "       [ 3.22491221e-02, -3.47233340e-02,  3.70738131e-06,\n",
       "         5.72929785e-07,  0.00000000e+00,  0.00000000e+00,\n",
       "         0.00000000e+00,  0.00000000e+00],\n",
       "       [ 3.09662952e-02, -4.31602448e-02,  3.86204191e-06,\n",
       "         6.75776779e-07,  0.00000000e+00,  0.00000000e+00,\n",
       "         0.00000000e+00,  0.00000000e+00],\n",
       "       [ 2.95986855e-02, -5.16199246e-02,  3.98272036e-06,\n",
       "         7.76811732e-07,  0.00000000e+00,  0.00000000e+00,\n",
       "         0.00000000e+00,  0.00000000e+00],\n",
       "       [ 2.82186904e-02, -5.99701554e-02,  4.07673154e-06,\n",
       "         8.75466239e-07,  0.00000000e+00,  0.00000000e+00,\n",
       "         0.00000000e+00,  0.00000000e+00],\n",
       "       [ 2.49451100e-02, -7.98419937e-02,  4.22820780e-06,\n",
       "         1.10977210e-06,  0.00000000e+00,  0.00000000e+00,\n",
       "         0.00000000e+00,  0.00000000e+00],\n",
       "       [ 2.18423729e-02, -9.93367210e-02,  4.30518484e-06,\n",
       "         1.34402454e-06,  0.00000000e+00,  0.00000000e+00,\n",
       "         0.00000000e+00,  0.00000000e+00],\n",
       "       [ 1.91760295e-02, -1.16855152e-01,  4.32833402e-06,\n",
       "         1.56269175e-06,  0.00000000e+00,  0.00000000e+00,\n",
       "         0.00000000e+00,  0.00000000e+00],\n",
       "       [ 1.69140311e-02, -1.32347904e-01,  4.31742366e-06,\n",
       "         1.76600785e-06,  0.00000000e+00,  0.00000000e+00,\n",
       "         0.00000000e+00,  0.00000000e+00],\n",
       "       [ 1.50001057e-02, -1.45918615e-01,  4.28474384e-06,\n",
       "         1.95479590e-06,  0.00000000e+00,  0.00000000e+00,\n",
       "         0.00000000e+00,  0.00000000e+00],\n",
       "       [ 1.33774553e-02, -1.57735072e-01,  4.23817705e-06,\n",
       "         2.13010598e-06,  0.00000000e+00,  0.00000000e+00,\n",
       "         0.00000000e+00,  0.00000000e+00],\n",
       "       [ 1.19960010e-02, -1.67984284e-01,  4.18290125e-06,\n",
       "         2.29304161e-06,  0.00000000e+00,  0.00000000e+00,\n",
       "         0.00000000e+00,  0.00000000e+00],\n",
       "       [ 1.08138322e-02, -1.76850311e-01,  4.12237989e-06,\n",
       "         2.44467613e-06,  0.00000000e+00,  0.00000000e+00,\n",
       "         0.00000000e+00,  0.00000000e+00],\n",
       "       [ 9.79660665e-03, -1.84504233e-01,  4.05895936e-06,\n",
       "         2.58601469e-06,  0.00000000e+00,  0.00000000e+00,\n",
       "         0.00000000e+00,  0.00000000e+00],\n",
       "       [ 8.91642703e-03, -1.91100165e-01,  3.99424282e-06,\n",
       "         2.71797968e-06,  0.00000000e+00,  0.00000000e+00,\n",
       "         0.00000000e+00,  0.00000000e+00],\n",
       "       [ 0.00000000e+00,  0.00000000e+00,  0.00000000e+00,\n",
       "         0.00000000e+00,  0.00000000e+00,  0.00000000e+00,\n",
       "         0.00000000e+00,  0.00000000e+00],\n",
       "       [ 1.75882889e-03,  2.20919098e-03,  0.00000000e+00,\n",
       "         0.00000000e+00,  1.10919253e-06,  2.59421238e-08,\n",
       "         0.00000000e+00,  0.00000000e+00],\n",
       "       [ 2.98557329e-03,  7.32670701e-03,  0.00000000e+00,\n",
       "         0.00000000e+00,  1.90168591e-06,  8.80822864e-08,\n",
       "         0.00000000e+00,  0.00000000e+00],\n",
       "       [ 3.85131247e-03,  1.38931680e-02,  0.00000000e+00,\n",
       "         0.00000000e+00,  2.48390319e-06,  1.70898665e-07,\n",
       "         0.00000000e+00,  0.00000000e+00],\n",
       "       [ 4.46560089e-03,  2.10959762e-02,  0.00000000e+00,\n",
       "         0.00000000e+00,  2.92051822e-06,  2.65342331e-07,\n",
       "         0.00000000e+00,  0.00000000e+00],\n",
       "       [ 4.90092465e-03,  2.84712114e-02,  0.00000000e+00,\n",
       "         0.00000000e+00,  3.25295527e-06,  3.65913788e-07,\n",
       "         0.00000000e+00,  0.00000000e+00],\n",
       "       [ 5.20661033e-03,  3.57520645e-02,  0.00000000e+00,\n",
       "         0.00000000e+00,  3.50887502e-06,  4.69173254e-07,\n",
       "         0.00000000e+00,  0.00000000e+00],\n",
       "       [ 5.41704045e-03,  4.27870825e-02,  0.00000000e+00,\n",
       "         0.00000000e+00,  3.70738128e-06,  5.72929893e-07,\n",
       "         0.00000000e+00,  0.00000000e+00],\n",
       "       [ 5.55667541e-03,  4.94939843e-02,  0.00000000e+00,\n",
       "         0.00000000e+00,  3.86204191e-06,  6.75776668e-07,\n",
       "         0.00000000e+00,  0.00000000e+00],\n",
       "       [ 5.64322393e-03,  5.58325853e-02,  0.00000000e+00,\n",
       "         0.00000000e+00,  3.98272039e-06,  7.76811774e-07,\n",
       "         0.00000000e+00,  0.00000000e+00],\n",
       "       [ 5.68970050e-03,  6.17885031e-02,  0.00000000e+00,\n",
       "         0.00000000e+00,  4.07673157e-06,  8.75466238e-07,\n",
       "         0.00000000e+00,  0.00000000e+00],\n",
       "       [ 5.68843059e-03,  7.50351306e-02,  0.00000000e+00,\n",
       "         0.00000000e+00,  4.22820777e-06,  1.10977205e-06,\n",
       "         0.00000000e+00,  0.00000000e+00],\n",
       "       [ 5.57650598e-03,  8.70484672e-02,  0.00000000e+00,\n",
       "         0.00000000e+00,  4.30518481e-06,  1.34402445e-06,\n",
       "         0.00000000e+00,  0.00000000e+00],\n",
       "       [ 5.40492933e-03,  9.71798468e-02,  0.00000000e+00,\n",
       "         0.00000000e+00,  4.32833410e-06,  1.56269169e-06,\n",
       "         0.00000000e+00,  0.00000000e+00],\n",
       "       [ 5.20480897e-03,  1.05678614e-01,  0.00000000e+00,\n",
       "         0.00000000e+00,  4.31742358e-06,  1.76600790e-06,\n",
       "         0.00000000e+00,  0.00000000e+00],\n",
       "       [ 4.99385819e-03,  1.12785380e-01,  0.00000000e+00,\n",
       "         0.00000000e+00,  4.28474373e-06,  1.95479592e-06,\n",
       "         0.00000000e+00,  0.00000000e+00],\n",
       "       [ 4.78222801e-03,  1.18714752e-01,  0.00000000e+00,\n",
       "         0.00000000e+00,  4.23817700e-06,  2.13010592e-06,\n",
       "         0.00000000e+00,  0.00000000e+00],\n",
       "       [ 4.57567366e-03,  1.23651465e-01,  0.00000000e+00,\n",
       "         0.00000000e+00,  4.18290128e-06,  2.29304158e-06,\n",
       "         0.00000000e+00,  0.00000000e+00],\n",
       "       [ 4.37734640e-03,  1.27751879e-01,  0.00000000e+00,\n",
       "         0.00000000e+00,  4.12237993e-06,  2.44467612e-06,\n",
       "         0.00000000e+00,  0.00000000e+00],\n",
       "       [ 4.18883585e-03,  1.31147230e-01,  0.00000000e+00,\n",
       "         0.00000000e+00,  4.05895932e-06,  2.58601471e-06,\n",
       "         0.00000000e+00,  0.00000000e+00],\n",
       "       [ 4.01079093e-03,  1.33947318e-01,  0.00000000e+00,\n",
       "         0.00000000e+00,  3.99424286e-06,  2.71797963e-06,\n",
       "         0.00000000e+00,  0.00000000e+00],\n",
       "       [ 0.00000000e+00,  0.00000000e+00,  0.00000000e+00,\n",
       "         0.00000000e+00,  0.00000000e+00,  0.00000000e+00,\n",
       "         0.00000000e+00,  0.00000000e+00],\n",
       "       [-4.59084462e-03, -2.78936327e-03,  0.00000000e+00,\n",
       "         0.00000000e+00,  0.00000000e+00,  0.00000000e+00,\n",
       "         1.10919255e-06,  2.59419114e-08],\n",
       "       [-7.29945437e-03, -9.07479227e-03,  0.00000000e+00,\n",
       "         0.00000000e+00,  0.00000000e+00,  0.00000000e+00,\n",
       "         1.90168595e-06,  8.80824203e-08],\n",
       "       [-8.93022712e-03, -1.69469640e-02,  0.00000000e+00,\n",
       "         0.00000000e+00,  0.00000000e+00,  0.00000000e+00,\n",
       "         2.48390316e-06,  1.70898705e-07],\n",
       "       [-9.91042851e-03, -2.54145861e-02,  0.00000000e+00,\n",
       "         0.00000000e+00,  0.00000000e+00,  0.00000000e+00,\n",
       "         2.92051829e-06,  2.65342234e-07],\n",
       "       [-1.04823227e-02, -3.39468271e-02,  0.00000000e+00,\n",
       "         0.00000000e+00,  0.00000000e+00,  0.00000000e+00,\n",
       "         3.25295529e-06,  3.65913927e-07],\n",
       "       [-1.07904723e-02, -4.22577336e-02,  0.00000000e+00,\n",
       "         0.00000000e+00,  0.00000000e+00,  0.00000000e+00,\n",
       "         3.50887488e-06,  4.69173305e-07],\n",
       "       [-1.09247041e-02, -5.01970947e-02,  0.00000000e+00,\n",
       "         0.00000000e+00,  0.00000000e+00,  0.00000000e+00,\n",
       "         3.70738121e-06,  5.72929896e-07],\n",
       "       [-1.09426872e-02, -5.76921776e-02,  0.00000000e+00,\n",
       "         0.00000000e+00,  0.00000000e+00,  0.00000000e+00,\n",
       "         3.86204195e-06,  6.75776817e-07],\n",
       "       [-1.08824492e-02, -6.47150800e-02,  0.00000000e+00,\n",
       "         0.00000000e+00,  0.00000000e+00,  0.00000000e+00,\n",
       "         3.98272033e-06,  7.76811768e-07],\n",
       "       [-1.07695962e-02, -7.12639317e-02,  0.00000000e+00,\n",
       "         0.00000000e+00,  0.00000000e+00,  0.00000000e+00,\n",
       "         4.07673151e-06,  8.75466205e-07],\n",
       "       [-1.03597740e-02, -8.56672004e-02,  0.00000000e+00,\n",
       "         0.00000000e+00,  0.00000000e+00,  0.00000000e+00,\n",
       "         4.22820788e-06,  1.10977201e-06],\n",
       "       [-9.83024270e-03, -9.85458493e-02,  0.00000000e+00,\n",
       "         0.00000000e+00,  0.00000000e+00,  0.00000000e+00,\n",
       "         4.30518481e-06,  1.34402438e-06],\n",
       "       [-9.27910388e-03, -1.09272577e-01,  0.00000000e+00,\n",
       "         0.00000000e+00,  0.00000000e+00,  0.00000000e+00,\n",
       "         4.32833403e-06,  1.56269181e-06],\n",
       "       [-8.74201277e-03, -1.18171349e-01,  0.00000000e+00,\n",
       "         0.00000000e+00,  0.00000000e+00,  0.00000000e+00,\n",
       "         4.31742364e-06,  1.76600803e-06],\n",
       "       [-8.23452196e-03, -1.25535838e-01,  0.00000000e+00,\n",
       "         0.00000000e+00,  0.00000000e+00,  0.00000000e+00,\n",
       "         4.28474384e-06,  1.95479586e-06],\n",
       "       [-7.76248824e-03, -1.31618656e-01,  0.00000000e+00,\n",
       "         0.00000000e+00,  0.00000000e+00,  0.00000000e+00,\n",
       "         4.23817695e-06,  2.13010604e-06],\n",
       "       [-7.32699867e-03, -1.36631869e-01,  0.00000000e+00,\n",
       "         0.00000000e+00,  0.00000000e+00,  0.00000000e+00,\n",
       "         4.18290130e-06,  2.29304145e-06],\n",
       "       [-6.92684176e-03, -1.40751779e-01,  0.00000000e+00,\n",
       "         0.00000000e+00,  0.00000000e+00,  0.00000000e+00,\n",
       "         4.12237993e-06,  2.44467626e-06],\n",
       "       [-6.55976340e-03, -1.44124329e-01,  0.00000000e+00,\n",
       "         0.00000000e+00,  0.00000000e+00,  0.00000000e+00,\n",
       "         4.05895942e-06,  2.58601491e-06],\n",
       "       [-6.22311078e-03, -1.46870211e-01,  0.00000000e+00,\n",
       "         0.00000000e+00,  0.00000000e+00,  0.00000000e+00,\n",
       "         3.99424284e-06,  2.71797969e-06]])\n",
       "     message: '`gtol` termination condition is satisfied.'\n",
       "        nfev: 14\n",
       "        njev: 13\n",
       "  optimality: 5.960258801075908e-09\n",
       "      status: 1\n",
       "     success: True\n",
       "           x: array([5.86702365e+00, 7.87405993e-01, 1.43934918e+05, 3.78030402e+04,\n",
       "       1.01206281e+04, 6.94399318e+04, 9.06671484e+04, 2.83060993e+04])"
      ]
     },
     "execution_count": 27,
     "metadata": {},
     "output_type": "execute_result"
    }
   ],
   "source": [
    "fit_multi"
   ]
  },
  {
   "cell_type": "code",
   "execution_count": 29,
   "metadata": {},
   "outputs": [
    {
     "data": {
      "text/plain": [
       "3"
      ]
     },
     "execution_count": 29,
     "metadata": {},
     "output_type": "execute_result"
    }
   ],
   "source": [
    "eps_N_vec.shape[0]"
   ]
  },
  {
   "cell_type": "code",
   "execution_count": 35,
   "metadata": {},
   "outputs": [
    {
     "data": {
      "text/plain": [
       "(3, 21)"
      ]
     },
     "execution_count": 35,
     "metadata": {},
     "output_type": "execute_result"
    }
   ],
   "source": [
    "data.T[1:].shape"
   ]
  },
  {
   "cell_type": "code",
   "execution_count": 39,
   "metadata": {},
   "outputs": [],
   "source": [
    "def Absorbance_per_wavelength(params):\n",
    "    \n",
    "    n_wavelengths = eps_N_vec.shape[0]\n",
    "    \n",
    "    ## em_fit_fun is length = n_wavelengths * 21\n",
    "    \n",
    "    em_fit_array = em_fit_fun(params).reshape((n_wavelengths, 21))\n",
    "    \n",
    "    absorb = em_fit_array + data.T[1:]\n",
    "    \n",
    "    return absorb"
   ]
  },
  {
   "cell_type": "code",
   "execution_count": null,
   "metadata": {},
   "outputs": [],
   "source": []
  },
  {
   "cell_type": "code",
   "execution_count": 42,
   "metadata": {},
   "outputs": [
    {
     "data": {
      "text/plain": [
       "<matplotlib.legend.Legend at 0x285552d78c8>"
      ]
     },
     "execution_count": 42,
     "metadata": {},
     "output_type": "execute_result"
    },
    {
     "data": {
      "image/png": "[encoded data removed]",
      "text/plain": [
       "<Figure size 432x288 with 1 Axes>"
      ]
     },
     "metadata": {
      "needs_background": "light"
     },
     "output_type": "display_data"
    },
    {
     "data": {
      "image/png": "[encoded data removed]",
      "text/plain": [
       "<Figure size 432x288 with 1 Axes>"
      ]
     },
     "metadata": {
      "needs_background": "light"
     },
     "output_type": "display_data"
    },
    {
     "data": {
      "image/png": "[encoded data removed]",
      "text/plain": [
       "<Figure size 432x288 with 1 Axes>"
      ]
     },
     "metadata": {
      "needs_background": "light"
     },
     "output_type": "display_data"
    }
   ],
   "source": [
    "\n",
    "\n",
    "## Plot initial guess\n",
    "plt.plot(\n",
    "    con_X, \n",
    "    Absorbance_per_wavelength(ini_guess_multi)[0], \n",
    "    ls='--',\n",
    "    c='k',\n",
    "    label='initial guess')\n",
    "\n",
    "plt.plot(con_X, Absorbance_per_wavelength(fit_multi.x)[0], label='result!?!?!')\n",
    "\n",
    "plt.xlabel('[X]')\n",
    "plt.ylabel('OD')\n",
    "plt.scatter(con_X, od_380, c='C1')\n",
    "plt.title('380 nm')\n",
    "plt.legend()\n",
    "\n",
    "plt.figure()\n",
    "## Plot initial guess\n",
    "plt.plot(\n",
    "    con_X, \n",
    "    Absorbance_per_wavelength(ini_guess_multi)[1], \n",
    "    ls='--',\n",
    "    c='k',\n",
    "    label='initial guess')\n",
    "\n",
    "plt.plot(con_X, Absorbance_per_wavelength(fit_multi.x)[1], label='result!?!?!')\n",
    "\n",
    "plt.xlabel('[X]')\n",
    "plt.ylabel('OD')\n",
    "plt.scatter(con_X, od_400, c='C1')\n",
    "plt.title('400 nm')\n",
    "plt.legend()\n",
    "\n",
    "plt.figure()\n",
    "## Plot initial guess\n",
    "plt.plot(\n",
    "    con_X, \n",
    "    Absorbance_per_wavelength(ini_guess_multi)[2], \n",
    "    ls='--',\n",
    "    c='k',\n",
    "    label='initial guess')\n",
    "\n",
    "plt.plot(con_X, Absorbance_per_wavelength(fit_multi.x)[2], label='result!?!?!')\n",
    "\n",
    "plt.xlabel('[X]')\n",
    "plt.ylabel('OD')\n",
    "plt.scatter(con_X, od_365, c='C1')\n",
    "plt.title('365 nm')\n",
    "plt.legend()\n"
   ]
  },
  {
   "cell_type": "code",
   "execution_count": null,
   "metadata": {},
   "outputs": [],
   "source": []
  }
 ],
 "metadata": {
  "kernelspec": {
   "display_name": "Python 3",
   "language": "python",
   "name": "python3"
  },
  "language_info": {
   "codemirror_mode": {
    "name": "ipython",
    "version": 3
   },
   "file_extension": ".py",
   "mimetype": "text/x-python",
   "name": "python",
   "nbconvert_exporter": "python",
   "pygments_lexer": "ipython3",
   "version": "3.7.4"
  }
 },
 "nbformat": 4,
 "nbformat_minor": 4
}
